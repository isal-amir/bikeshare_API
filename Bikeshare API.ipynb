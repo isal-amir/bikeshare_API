{
 "cells": [
  {
   "cell_type": "markdown",
   "metadata": {},
   "source": [
    "Import Libraries"
   ]
  },
  {
   "cell_type": "code",
   "execution_count": 1,
   "metadata": {},
   "outputs": [],
   "source": [
    "import sqlite3\n",
    "import requests\n",
    "from tqdm import tqdm\n",
    "\n",
    "from flask import Flask, request\n",
    "import json \n",
    "import numpy as np\n",
    "import pandas as pd"
   ]
  },
  {
   "cell_type": "markdown",
   "metadata": {},
   "source": [
    "# Introduction\n",
    "In most cases when we are running a business, there are a lot of data stakeholder outside our company. The problem is that we need to provide the access in a way that they will not break our security rules or concerns. One way to solve that is by creating an API for the database. In this project, we will introduce you on how python is used for data transaction management using Flask API. \n",
    "\n",
    "**Usecase**: Bikeshare App\\\n",
    "Have you ever rent a bike for faster mobility in town? In the past few years, this business once become a phenomenom. In Indonesia, there are lots of similar services, for example, the Jakarta government's \"GOWES\" bike sharing service that launcehd in July 2020. \n",
    "\n",
    "For the user perspective, the general journey is denoted as follows:\n",
    "- User scan the bike located at some bike station, sending the data to database as the intent of \"start riding\"\n",
    "- Once user has reached its destination station, he/she put back the bike, sending the data again to the database as the intent of \"finished riding\"\n",
    "\n",
    "For each activity, there are data transactions between user and database. And how do you think each user's phone communicate with the server for storing and receiving the data? Using API ofcourse! \n",
    "\n",
    "We will later create a simplified version of the API service which handles data transactions and analysis. \n",
    "\n",
    "\n",
    "**Goals**: Make an API service to connect 3rd party user with data using HTTP request\n",
    "\n",
    "**End Product**: A Flask API which capable of doing: \n",
    "- Input new data to database\n",
    "- Read specific data from database\n",
    "- Get specific insight from data analysis process (ie: best performing stations)\n",
    "\n",
    "**Scoring Metrics**: \n",
    "\n",
    "1. 1 point - Created Flask App\n",
    "\n",
    "-  create app.py file to make flask app\n",
    "-  create Flask app to execute all of the endpoint you have made\n",
    "\n",
    "2. 2 points - Created functionality to read or get specific data from the database\n",
    "\n",
    "- create query to read data from database\n",
    "- create function to execute read specific information into table from database\n",
    "\n",
    "3. 4 points - Created functionality to input new data into each table for the databases\n",
    "\n",
    "- create query to insert new data into stations and trips table\n",
    "- create function to execute input data into stations and trips table\n",
    "\n",
    "4. 3 points - Created static endpoints which return analytical result (must be different from point 2,3)\n",
    "\n",
    "- create query to make analytical resultfrom the data\n",
    "- create static endpoint to analyze the data from database, for example average trip durations\n",
    "    \n",
    "5. 3 points - Created dynamic endpoints which return analytical result (must be different from point 2,3,4)\n",
    "\n",
    "- create query to make analytical resultfrom the data\n",
    "- create dinamic endpoint to analyze the data from database, for example average trip durations for each bike_id\n",
    "\n",
    "6. 3 points - Created POST endpoint which receive input data, then utilize it to get analytical result (must be different from point 2,3,4,5)\n",
    "\n",
    "- create input data for refering into query for post endpoint\n",
    "- make query and aggregation function to implement the input\n",
    "\n",
    "**Tools**: \n",
    "- **Python** with **Jupyter Notebook**, installed with **required libraries**\n",
    "- **Visual Studio Code (VSCode)**: Recommended for writing application scripts\n",
    "- **TablePlus**: Recommended for easy database access and exploration\n",
    "- Postman: Optional for easy API testing\n"
   ]
  },
  {
   "cell_type": "markdown",
   "metadata": {},
   "source": [
    "# About the Data"
   ]
  },
  {
   "cell_type": "markdown",
   "metadata": {},
   "source": [
    "The data that we will be using in this project is **[Austin Bike Share]()** dataset which contains information on bike trip start location, stop location, duration, type of bike share user in the city of Austin, Texas. Bike station location data is also provided. \n",
    "\n",
    "All the information is stored in a database called **austin_bikeshare.db**. However, we also provides the non existing data in csv files. These data then will be imported into the database using the API"
   ]
  },
  {
   "cell_type": "markdown",
   "metadata": {},
   "source": [
    "Lists of files:\n",
    "- **austin_bikeshare.db**: The database, contains `trips` and `stations` table\n",
    "- **data/austin_bikeshare_stations.csv**: contains all the stations information which is not yet available in the database table\n",
    "- **data/austin_bikeshare_trips_2021.csv**: contains all 2021 data which is not yet available in the database table"
   ]
  },
  {
   "cell_type": "code",
   "execution_count": 2,
   "metadata": {},
   "outputs": [],
   "source": [
    "# Reading the csv data\n",
    "trips = pd.read_csv('data/austin_bikeshare_trips_2021.csv')\n",
    "stations = pd.read_csv('data/austin_bikeshare_stations.csv')"
   ]
  },
  {
   "cell_type": "markdown",
   "metadata": {},
   "source": [
    "## Taking a look for trips data\n",
    "`trips` table in database, or `austin_bikeshare_trips.csv` in original files. It roughly consisted of 1.3 million rows"
   ]
  },
  {
   "cell_type": "code",
   "execution_count": 3,
   "metadata": {
    "scrolled": true
   },
   "outputs": [
    {
     "data": {
      "text/html": [
       "<div>\n",
       "<style scoped>\n",
       "    .dataframe tbody tr th:only-of-type {\n",
       "        vertical-align: middle;\n",
       "    }\n",
       "\n",
       "    .dataframe tbody tr th {\n",
       "        vertical-align: top;\n",
       "    }\n",
       "\n",
       "    .dataframe thead th {\n",
       "        text-align: right;\n",
       "    }\n",
       "</style>\n",
       "<table border=\"1\" class=\"dataframe\">\n",
       "  <thead>\n",
       "    <tr style=\"text-align: right;\">\n",
       "      <th></th>\n",
       "      <th>trip_id</th>\n",
       "      <th>subscriber_type</th>\n",
       "      <th>bikeid</th>\n",
       "      <th>start_time</th>\n",
       "      <th>start_station_id</th>\n",
       "      <th>start_station_name</th>\n",
       "      <th>end_station_id</th>\n",
       "      <th>end_station_name</th>\n",
       "      <th>duration_minutes</th>\n",
       "    </tr>\n",
       "  </thead>\n",
       "  <tbody>\n",
       "    <tr>\n",
       "      <th>0</th>\n",
       "      <td>23455589</td>\n",
       "      <td>Local365</td>\n",
       "      <td>174</td>\n",
       "      <td>2021-01-26 17:47:42 UTC</td>\n",
       "      <td>4059.0</td>\n",
       "      <td>Nash Hernandez/East @ RBJ South</td>\n",
       "      <td>3660.0</td>\n",
       "      <td>East 6th/Medina</td>\n",
       "      <td>7</td>\n",
       "    </tr>\n",
       "    <tr>\n",
       "      <th>1</th>\n",
       "      <td>23459960</td>\n",
       "      <td>Local365</td>\n",
       "      <td>19265</td>\n",
       "      <td>2021-01-28 08:03:52 UTC</td>\n",
       "      <td>4054.0</td>\n",
       "      <td>Rosewood/Chicon</td>\n",
       "      <td>4055.0</td>\n",
       "      <td>11th/Salina</td>\n",
       "      <td>16</td>\n",
       "    </tr>\n",
       "  </tbody>\n",
       "</table>\n",
       "</div>"
      ],
      "text/plain": [
       "    trip_id subscriber_type bikeid               start_time  start_station_id  \\\n",
       "0  23455589        Local365    174  2021-01-26 17:47:42 UTC            4059.0   \n",
       "1  23459960        Local365  19265  2021-01-28 08:03:52 UTC            4054.0   \n",
       "\n",
       "                start_station_name  end_station_id end_station_name  \\\n",
       "0  Nash Hernandez/East @ RBJ South          3660.0  East 6th/Medina   \n",
       "1                  Rosewood/Chicon          4055.0     11th/Salina    \n",
       "\n",
       "   duration_minutes  \n",
       "0                 7  \n",
       "1                16  "
      ]
     },
     "execution_count": 3,
     "metadata": {},
     "output_type": "execute_result"
    }
   ],
   "source": [
    "trips.head(2)"
   ]
  },
  {
   "cell_type": "code",
   "execution_count": 4,
   "metadata": {},
   "outputs": [
    {
     "data": {
      "text/plain": [
       "trip_id                 int64\n",
       "subscriber_type        object\n",
       "bikeid                 object\n",
       "start_time             object\n",
       "start_station_id      float64\n",
       "start_station_name     object\n",
       "end_station_id        float64\n",
       "end_station_name       object\n",
       "duration_minutes        int64\n",
       "dtype: object"
      ]
     },
     "execution_count": 4,
     "metadata": {},
     "output_type": "execute_result"
    }
   ],
   "source": [
    "trips.dtypes"
   ]
  },
  {
   "cell_type": "markdown",
   "metadata": {},
   "source": [
    "**Data Descriptions**:\n",
    "- `bikeid`: integer id of bike\n",
    "- `checkout_time`: HH:MM:SS, see start time for date stamp\n",
    "- `duration_minutes`: int minutes of trip duration\n",
    "- `endstationid`: integer id of end station\n",
    "- `endstationname`: string of end station name\n",
    "- `month`: month, integer\n",
    "- `startstationid`: integer id of start station\n",
    "- `startstationname`: string of start station name\n",
    "- `start_time`: YYYY-MM-DD HH:MM:SS\n",
    "- `subscriber_type`: membership typ e.g. walk up, annual, other bike share, etc\n",
    "- `trip_id`: unique trip id int\n",
    "- `year`: year of trip, int"
   ]
  },
  {
   "cell_type": "markdown",
   "metadata": {},
   "source": [
    "## Taking a look for stations data\n",
    "`stations` table in database, or `austin_bikeshare_stations.csv` in original files "
   ]
  },
  {
   "cell_type": "code",
   "execution_count": 5,
   "metadata": {},
   "outputs": [
    {
     "data": {
      "text/html": [
       "<div>\n",
       "<style scoped>\n",
       "    .dataframe tbody tr th:only-of-type {\n",
       "        vertical-align: middle;\n",
       "    }\n",
       "\n",
       "    .dataframe tbody tr th {\n",
       "        vertical-align: top;\n",
       "    }\n",
       "\n",
       "    .dataframe thead th {\n",
       "        text-align: right;\n",
       "    }\n",
       "</style>\n",
       "<table border=\"1\" class=\"dataframe\">\n",
       "  <thead>\n",
       "    <tr style=\"text-align: right;\">\n",
       "      <th></th>\n",
       "      <th>station_id</th>\n",
       "      <th>name</th>\n",
       "      <th>status</th>\n",
       "      <th>address</th>\n",
       "      <th>alternate_name</th>\n",
       "      <th>city_asset_number</th>\n",
       "      <th>property_type</th>\n",
       "      <th>number_of_docks</th>\n",
       "      <th>power_type</th>\n",
       "      <th>footprint_length</th>\n",
       "      <th>footprint_width</th>\n",
       "      <th>notes</th>\n",
       "      <th>council_district</th>\n",
       "      <th>modified_date</th>\n",
       "    </tr>\n",
       "  </thead>\n",
       "  <tbody>\n",
       "    <tr>\n",
       "      <th>96</th>\n",
       "      <td>3795</td>\n",
       "      <td>Dean Keeton &amp; Whitis</td>\n",
       "      <td>active</td>\n",
       "      <td>300 W. Dean Keeton St.</td>\n",
       "      <td>NaN</td>\n",
       "      <td>32671.0</td>\n",
       "      <td>undetermined_parking</td>\n",
       "      <td>19.0</td>\n",
       "      <td>solar</td>\n",
       "      <td>55.0</td>\n",
       "      <td>5.0</td>\n",
       "      <td>NaN</td>\n",
       "      <td>9</td>\n",
       "      <td>2021-01-04T12:00:00Z</td>\n",
       "    </tr>\n",
       "    <tr>\n",
       "      <th>97</th>\n",
       "      <td>3797</td>\n",
       "      <td>21st &amp; University</td>\n",
       "      <td>active</td>\n",
       "      <td>2007 University Ave.</td>\n",
       "      <td>NaN</td>\n",
       "      <td>32674.0</td>\n",
       "      <td>undetermined_parking</td>\n",
       "      <td>19.0</td>\n",
       "      <td>solar</td>\n",
       "      <td>55.0</td>\n",
       "      <td>5.0</td>\n",
       "      <td>ROW might belong to UT</td>\n",
       "      <td>9</td>\n",
       "      <td>2021-01-04T12:00:00Z</td>\n",
       "    </tr>\n",
       "  </tbody>\n",
       "</table>\n",
       "</div>"
      ],
      "text/plain": [
       "    station_id                  name  status                 address  \\\n",
       "96        3795  Dean Keeton & Whitis  active  300 W. Dean Keeton St.   \n",
       "97        3797     21st & University  active    2007 University Ave.   \n",
       "\n",
       "   alternate_name  city_asset_number         property_type  number_of_docks  \\\n",
       "96            NaN            32671.0  undetermined_parking             19.0   \n",
       "97            NaN            32674.0  undetermined_parking             19.0   \n",
       "\n",
       "   power_type  footprint_length  footprint_width                   notes  \\\n",
       "96      solar              55.0              5.0                     NaN   \n",
       "97      solar              55.0              5.0  ROW might belong to UT   \n",
       "\n",
       "    council_district         modified_date  \n",
       "96                 9  2021-01-04T12:00:00Z  \n",
       "97                 9  2021-01-04T12:00:00Z  "
      ]
     },
     "execution_count": 5,
     "metadata": {},
     "output_type": "execute_result"
    }
   ],
   "source": [
    "stations.tail(2)"
   ]
  },
  {
   "cell_type": "markdown",
   "metadata": {},
   "source": [
    "**stations table (or austin_bikeshare_trips.csv)**:\n",
    "- `station_id`: integer id of station\n",
    "- `name`: string of station name\n",
    "- `status`: string of station status (active, closed, moved, ACL-only)\n",
    "- `address`: string of station address\n",
    "- `alternate_name`: string of station alternative name\n",
    "- `city_asset_number`: integer of station's asset number\n",
    "- `property_type`: string of station's property type\n",
    "- `number_of_docks`: integer of number of available bike docks\n",
    "- `power_type`: string of station's power source type\n",
    "- `footprint_length`: float of station' blueprint length (size of the station). Probably in meters\n",
    "- `footprint_width`: float of station' blueprint width (size of the station). Probably in meters\n",
    "- `notes`: string of additional notes\n",
    "- `council_district`: integer of stations's council district\n",
    "- `modified_date`: date of last modified information regarding the station"
   ]
  },
  {
   "cell_type": "markdown",
   "metadata": {},
   "source": [
    "# Database"
   ]
  },
  {
   "cell_type": "markdown",
   "metadata": {},
   "source": [
    "The first important task is to make sure we can securely make connections to the database. In this scenario, we will connect to sqlite database, `austin_bikeshare.db` via python. In this part, we will re-visit on how to work with databases, started with making a connection, get some data, and insert data into it. \n",
    "\n",
    "You can directly connect and view the database using TablePlus, or run the following code to create the connection"
   ]
  },
  {
   "cell_type": "code",
   "execution_count": 3,
   "metadata": {},
   "outputs": [],
   "source": [
    "# Define a function to create connection for reusability purpose\n",
    "def make_connection():\n",
    "    connection = sqlite3.connect('austin_bikeshare.db')\n",
    "    return connection\n",
    "\n",
    "# Make a connection\n",
    "conn = make_connection()"
   ]
  },
  {
   "cell_type": "code",
   "execution_count": 4,
   "metadata": {},
   "outputs": [
    {
     "data": {
      "text/plain": [
       "<sqlite3.Connection at 0x1ca1fa26300>"
      ]
     },
     "execution_count": 4,
     "metadata": {},
     "output_type": "execute_result"
    }
   ],
   "source": [
    "conn"
   ]
  },
  {
   "cell_type": "markdown",
   "metadata": {},
   "source": [
    "## POST: Insert data into database\n",
    "\n",
    "Generally, POST method will utilize the data sent by user for specific purporse, for example: \n",
    "\n",
    "- Insert new data into the database. \n",
    "- Operate the data into some function"
   ]
  },
  {
   "cell_type": "markdown",
   "metadata": {},
   "source": [
    "We will learn how to insert data into a specific table in our database. Please refer to the following code to create and run the query for the given task"
   ]
  },
  {
   "cell_type": "code",
   "execution_count": 8,
   "metadata": {},
   "outputs": [],
   "source": [
    "# Get the data values\n",
    "data = tuple(stations.iloc[19].fillna('').values)\n",
    "\n",
    "# Make the query\n",
    "query = f\"\"\"\n",
    "INSERT INTO stations\n",
    "VALUES {data}\n",
    "\"\"\""
   ]
  },
  {
   "cell_type": "code",
   "execution_count": 9,
   "metadata": {},
   "outputs": [
    {
     "name": "stdout",
     "output_type": "stream",
     "text": [
      "\n",
      "INSERT INTO stations\n",
      "VALUES (1008, 'Nueces @ 3rd', 'closed', '311 Nueces', '', '', '', '', '', '', '', '', 9, '2021-01-04T12:00:00Z')\n",
      "\n"
     ]
    }
   ],
   "source": [
    "# See the actual query looks like\n",
    "print(query)"
   ]
  },
  {
   "cell_type": "code",
   "execution_count": 10,
   "metadata": {},
   "outputs": [
    {
     "data": {
      "text/plain": [
       "<sqlite3.Cursor at 0x2660411aa40>"
      ]
     },
     "execution_count": 10,
     "metadata": {},
     "output_type": "execute_result"
    }
   ],
   "source": [
    "# Execute the query \n",
    "conn.execute(query)"
   ]
  },
  {
   "cell_type": "code",
   "execution_count": 11,
   "metadata": {},
   "outputs": [],
   "source": [
    "# Commit changes to database\n",
    "conn.commit()"
   ]
  },
  {
   "cell_type": "markdown",
   "metadata": {},
   "source": [
    "Once the code above succesful, it's recomended to wrap it into a function so that we can reuse it in the future. Complete the following codes to make the function:"
   ]
  },
  {
   "cell_type": "code",
   "execution_count": 12,
   "metadata": {},
   "outputs": [],
   "source": [
    "def insert_into_stations(data, conn):\n",
    "    query = f\"\"\"INSERT INTO stations values {data}\"\"\"\n",
    "    try:\n",
    "        conn.execute(query)\n",
    "    except:\n",
    "        return 'Error'\n",
    "    conn.commit()\n",
    "    return 'OK'"
   ]
  },
  {
   "cell_type": "code",
   "execution_count": 13,
   "metadata": {},
   "outputs": [],
   "source": [
    "# Example use of the function \n",
    "conn = make_connection()\n",
    "data = tuple(stations.iloc[14].fillna('').values) # Randomly select a data\n",
    "result = insert_into_stations(data, conn)"
   ]
  },
  {
   "cell_type": "code",
   "execution_count": 14,
   "metadata": {},
   "outputs": [
    {
     "data": {
      "text/plain": [
       "'OK'"
      ]
     },
     "execution_count": 14,
     "metadata": {},
     "output_type": "execute_result"
    }
   ],
   "source": [
    "result"
   ]
  },
  {
   "cell_type": "markdown",
   "metadata": {},
   "source": [
    "**TASK: Create a Function to insert data for `trips` table**"
   ]
  },
  {
   "cell_type": "code",
   "execution_count": 17,
   "metadata": {},
   "outputs": [],
   "source": [
    "# Your code here\n",
    "def insert_into_trips(data_trips, conn):\n",
    "    query = f\"\"\"INSERT INTO trips values {data_trips}\"\"\"\n",
    "    try:\n",
    "        conn.execute(query)\n",
    "    except:\n",
    "        return 'Error'\n",
    "    conn.commit()\n",
    "    return 'OK'\n",
    "\n",
    "conn = make_connection()\n",
    "data_trips = tuple(trips.iloc[9].fillna('').values) # Randomly select a data\n",
    "result_trips = insert_into_trips(data_trips, conn)"
   ]
  },
  {
   "cell_type": "code",
   "execution_count": 18,
   "metadata": {},
   "outputs": [
    {
     "data": {
      "text/plain": [
       "'OK'"
      ]
     },
     "execution_count": 18,
     "metadata": {},
     "output_type": "execute_result"
    }
   ],
   "source": [
    "result_trips"
   ]
  },
  {
   "cell_type": "markdown",
   "metadata": {},
   "source": [
    "## GET: Read specific data"
   ]
  },
  {
   "cell_type": "markdown",
   "metadata": {},
   "source": [
    "Generally, GET method will ask for specific the data in the database, alongside with additional information we might send. For example: \n",
    "- Get number of unique user\n",
    "- Get full trips information for specific user id\n",
    "- Get average trips duration and length for specific user id\n",
    "\n",
    "In this example, we will implement the most basic GET method, that is to get Station information in the table based on specific Station ID"
   ]
  },
  {
   "cell_type": "code",
   "execution_count": 53,
   "metadata": {},
   "outputs": [],
   "source": [
    "# Get Specific Station ID  Query\n",
    "station_id = 2500\n",
    "query_station_id = f\"\"\"\n",
    "SELECT * FROM stations\n",
    "WHERE station_id = {station_id}\n",
    "\"\"\"\n",
    "\n",
    "# Get all station ID Query\n",
    "query_station_all = \"SELECT * FROM stations\""
   ]
  },
  {
   "cell_type": "code",
   "execution_count": 54,
   "metadata": {},
   "outputs": [
    {
     "name": "stdout",
     "output_type": "stream",
     "text": [
      "\n",
      "SELECT * FROM stations\n",
      "WHERE station_id = 2500\n",
      "\n"
     ]
    }
   ],
   "source": [
    "print(query_station_id)"
   ]
  },
  {
   "cell_type": "code",
   "execution_count": 55,
   "metadata": {},
   "outputs": [],
   "source": [
    "# Run the query and get the result\n",
    "result = pd.read_sql_query(query_station_id, conn)"
   ]
  },
  {
   "cell_type": "code",
   "execution_count": 56,
   "metadata": {},
   "outputs": [
    {
     "data": {
      "text/html": [
       "<div>\n",
       "<style scoped>\n",
       "    .dataframe tbody tr th:only-of-type {\n",
       "        vertical-align: middle;\n",
       "    }\n",
       "\n",
       "    .dataframe tbody tr th {\n",
       "        vertical-align: top;\n",
       "    }\n",
       "\n",
       "    .dataframe thead th {\n",
       "        text-align: right;\n",
       "    }\n",
       "</style>\n",
       "<table border=\"1\" class=\"dataframe\">\n",
       "  <thead>\n",
       "    <tr style=\"text-align: right;\">\n",
       "      <th></th>\n",
       "      <th>station_id</th>\n",
       "      <th>name</th>\n",
       "      <th>status</th>\n",
       "      <th>address</th>\n",
       "      <th>alternate_name</th>\n",
       "      <th>city_asset_number</th>\n",
       "      <th>property_type</th>\n",
       "      <th>number_of_docks</th>\n",
       "      <th>power_type</th>\n",
       "      <th>footprint_length</th>\n",
       "      <th>footprint_width</th>\n",
       "      <th>notes</th>\n",
       "      <th>council_district</th>\n",
       "      <th>modified_date</th>\n",
       "    </tr>\n",
       "  </thead>\n",
       "  <tbody>\n",
       "    <tr>\n",
       "      <th>0</th>\n",
       "      <td>2500</td>\n",
       "      <td>Republic Square</td>\n",
       "      <td>closed</td>\n",
       "      <td>425 W 4th Street</td>\n",
       "      <td></td>\n",
       "      <td></td>\n",
       "      <td></td>\n",
       "      <td></td>\n",
       "      <td></td>\n",
       "      <td></td>\n",
       "      <td></td>\n",
       "      <td></td>\n",
       "      <td>9</td>\n",
       "      <td>2021-01-04T12:00:00Z</td>\n",
       "    </tr>\n",
       "  </tbody>\n",
       "</table>\n",
       "</div>"
      ],
      "text/plain": [
       "   station_id             name  status           address alternate_name  \\\n",
       "0        2500  Republic Square  closed  425 W 4th Street                  \n",
       "\n",
       "  city_asset_number property_type number_of_docks power_type footprint_length  \\\n",
       "0                                                                               \n",
       "\n",
       "  footprint_width notes  council_district         modified_date  \n",
       "0                                       9  2021-01-04T12:00:00Z  "
      ]
     },
     "execution_count": 56,
     "metadata": {},
     "output_type": "execute_result"
    }
   ],
   "source": [
    "result"
   ]
  },
  {
   "cell_type": "markdown",
   "metadata": {},
   "source": [
    "Just like the previous section, create a function to read specific station"
   ]
  },
  {
   "cell_type": "code",
   "execution_count": 78,
   "metadata": {},
   "outputs": [],
   "source": [
    "def get_station_id(station_id, conn):\n",
    "    query = f\"\"\"SELECT * FROM stations WHERE station_id = {station_id}\"\"\"\n",
    "    result = pd.read_sql_query(query, conn)\n",
    "    return result \n",
    "\n",
    "def get_all_stations(conn):\n",
    "    query = f\"\"\"SELECT * FROM stations\"\"\"\n",
    "    result = pd.read_sql_query(query, conn)\n",
    "    return result"
   ]
  },
  {
   "cell_type": "code",
   "execution_count": 21,
   "metadata": {
    "scrolled": true
   },
   "outputs": [
    {
     "data": {
      "text/html": [
       "<div>\n",
       "<style scoped>\n",
       "    .dataframe tbody tr th:only-of-type {\n",
       "        vertical-align: middle;\n",
       "    }\n",
       "\n",
       "    .dataframe tbody tr th {\n",
       "        vertical-align: top;\n",
       "    }\n",
       "\n",
       "    .dataframe thead th {\n",
       "        text-align: right;\n",
       "    }\n",
       "</style>\n",
       "<table border=\"1\" class=\"dataframe\">\n",
       "  <thead>\n",
       "    <tr style=\"text-align: right;\">\n",
       "      <th></th>\n",
       "      <th>station_id</th>\n",
       "      <th>name</th>\n",
       "      <th>status</th>\n",
       "      <th>address</th>\n",
       "      <th>alternate_name</th>\n",
       "      <th>city_asset_number</th>\n",
       "      <th>property_type</th>\n",
       "      <th>number_of_docks</th>\n",
       "      <th>power_type</th>\n",
       "      <th>footprint_length</th>\n",
       "      <th>footprint_width</th>\n",
       "      <th>notes</th>\n",
       "      <th>council_district</th>\n",
       "      <th>modified_date</th>\n",
       "    </tr>\n",
       "  </thead>\n",
       "  <tbody>\n",
       "    <tr>\n",
       "      <th>0</th>\n",
       "      <td>2550</td>\n",
       "      <td>Republic Square @ Guadalupe &amp; 4th St.</td>\n",
       "      <td>closed</td>\n",
       "      <td>Presented by Austin Ventures</td>\n",
       "      <td></td>\n",
       "      <td></td>\n",
       "      <td></td>\n",
       "      <td></td>\n",
       "      <td></td>\n",
       "      <td></td>\n",
       "      <td></td>\n",
       "      <td></td>\n",
       "      <td>9</td>\n",
       "      <td>2021-01-04T12:00:00Z</td>\n",
       "    </tr>\n",
       "  </tbody>\n",
       "</table>\n",
       "</div>"
      ],
      "text/plain": [
       "   station_id                                   name  status  \\\n",
       "0        2550  Republic Square @ Guadalupe & 4th St.  closed   \n",
       "\n",
       "                        address alternate_name city_asset_number  \\\n",
       "0  Presented by Austin Ventures                                    \n",
       "\n",
       "  property_type number_of_docks power_type footprint_length footprint_width  \\\n",
       "0                                                                             \n",
       "\n",
       "  notes  council_district         modified_date  \n",
       "0                       9  2021-01-04T12:00:00Z  "
      ]
     },
     "execution_count": 21,
     "metadata": {},
     "output_type": "execute_result"
    }
   ],
   "source": [
    "get_station_id(2550, conn)"
   ]
  },
  {
   "cell_type": "markdown",
   "metadata": {},
   "source": [
    "**TASK: Create a Function to read data from `trips` table**"
   ]
  },
  {
   "cell_type": "code",
   "execution_count": 62,
   "metadata": {},
   "outputs": [
    {
     "data": {
      "text/plain": [
       "<function __main__.longest_duration_trip(conn)>"
      ]
     },
     "execution_count": 62,
     "metadata": {},
     "output_type": "execute_result"
    }
   ],
   "source": [
    "# create a function to know the longest (trip in minute)\n",
    "def get_longest_duration_trip(conn):\n",
    "    query = f\"\"\"SELECT duration_minutes FROM trips ORDER by duration_minutes DESC LIMIT 1\"\"\"\n",
    "    result = pd.read_sql_query(query, conn)\n",
    "    return result\n",
    "longest_duration_trip"
   ]
  },
  {
   "cell_type": "code",
   "execution_count": 61,
   "metadata": {},
   "outputs": [
    {
     "data": {
      "text/html": [
       "<div>\n",
       "<style scoped>\n",
       "    .dataframe tbody tr th:only-of-type {\n",
       "        vertical-align: middle;\n",
       "    }\n",
       "\n",
       "    .dataframe tbody tr th {\n",
       "        vertical-align: top;\n",
       "    }\n",
       "\n",
       "    .dataframe thead th {\n",
       "        text-align: right;\n",
       "    }\n",
       "</style>\n",
       "<table border=\"1\" class=\"dataframe\">\n",
       "  <thead>\n",
       "    <tr style=\"text-align: right;\">\n",
       "      <th></th>\n",
       "      <th>duration_minutes</th>\n",
       "    </tr>\n",
       "  </thead>\n",
       "  <tbody>\n",
       "    <tr>\n",
       "      <th>0</th>\n",
       "      <td>34238</td>\n",
       "    </tr>\n",
       "  </tbody>\n",
       "</table>\n",
       "</div>"
      ],
      "text/plain": [
       "   duration_minutes\n",
       "0             34238"
      ]
     },
     "execution_count": 61,
     "metadata": {},
     "output_type": "execute_result"
    }
   ],
   "source": [
    "query = f\"\"\"SELECT duration_minutes FROM trips ORDER by duration_minutes DESC LIMIT 1 \"\"\"\n",
    "result = pd.read_sql_query(query, conn)\n",
    "result"
   ]
  },
  {
   "cell_type": "code",
   "execution_count": 24,
   "metadata": {},
   "outputs": [],
   "source": [
    "# Your code here\n",
    "def get_trip_id(trip_id, conn):\n",
    "    query = f\"\"\"SELECT * FROM trips WHERE id = {trip_id}\"\"\"\n",
    "    result = pd.read_sql_query(query, conn)\n",
    "    return result\n",
    "    \n",
    "def get_all_trips(conn):\n",
    "    query = f\"\"\" SELECT * FROM trips\"\"\"\n",
    "    result = pd.read_sql_query(query, conn)\n",
    "    return result\n"
   ]
  },
  {
   "cell_type": "code",
   "execution_count": 25,
   "metadata": {},
   "outputs": [
    {
     "data": {
      "text/html": [
       "<div>\n",
       "<style scoped>\n",
       "    .dataframe tbody tr th:only-of-type {\n",
       "        vertical-align: middle;\n",
       "    }\n",
       "\n",
       "    .dataframe tbody tr th {\n",
       "        vertical-align: top;\n",
       "    }\n",
       "\n",
       "    .dataframe thead th {\n",
       "        text-align: right;\n",
       "    }\n",
       "</style>\n",
       "<table border=\"1\" class=\"dataframe\">\n",
       "  <thead>\n",
       "    <tr style=\"text-align: right;\">\n",
       "      <th></th>\n",
       "      <th>id</th>\n",
       "      <th>subscriber_type</th>\n",
       "      <th>bikeid</th>\n",
       "      <th>start_time</th>\n",
       "      <th>start_station_id</th>\n",
       "      <th>start_station_name</th>\n",
       "      <th>end_station_id</th>\n",
       "      <th>end_station_name</th>\n",
       "      <th>duration_minutes</th>\n",
       "    </tr>\n",
       "  </thead>\n",
       "  <tbody>\n",
       "    <tr>\n",
       "      <th>0</th>\n",
       "      <td>8269945</td>\n",
       "      <td>Walk Up</td>\n",
       "      <td>311</td>\n",
       "      <td>2016-01-01 00:43:41 UTC</td>\n",
       "      <td>2707</td>\n",
       "      <td>Rainey St @ Cummings</td>\n",
       "      <td>2502</td>\n",
       "      <td>Barton Springs &amp; Riverside</td>\n",
       "      <td>20</td>\n",
       "    </tr>\n",
       "  </tbody>\n",
       "</table>\n",
       "</div>"
      ],
      "text/plain": [
       "        id subscriber_type bikeid               start_time  start_station_id  \\\n",
       "0  8269945         Walk Up    311  2016-01-01 00:43:41 UTC              2707   \n",
       "\n",
       "     start_station_name  end_station_id            end_station_name  \\\n",
       "0  Rainey St @ Cummings            2502  Barton Springs & Riverside   \n",
       "\n",
       "   duration_minutes  \n",
       "0                20  "
      ]
     },
     "execution_count": 25,
     "metadata": {},
     "output_type": "execute_result"
    }
   ],
   "source": [
    "get_trip_id(8269945, conn)"
   ]
  },
  {
   "cell_type": "code",
   "execution_count": null,
   "metadata": {},
   "outputs": [],
   "source": [
    "get_all_trips(conn)"
   ]
  },
  {
   "cell_type": "markdown",
   "metadata": {},
   "source": [
    "# Flask App"
   ]
  },
  {
   "cell_type": "markdown",
   "metadata": {},
   "source": [
    "Flask is a micro-framework for python. Generally we can build any application out of it. To start with, let's make our first empy flask app. \n",
    "Creata a new file `app.py`, then copy-paste the following codes into it and save it. \n",
    "\n",
    "*Notes: it's recomended to use vscode as editor since it support vast linting supports, including python which we find really helpful in coding*"
   ]
  },
  {
   "cell_type": "markdown",
   "metadata": {},
   "source": [
    "```python\n",
    "from flask import Flask, request\n",
    "app = Flask(__name__) \n",
    "\n",
    "if __name__ == '__main__':\n",
    "    app.run(debug=True, port=5000)\n",
    "```"
   ]
  },
  {
   "cell_type": "markdown",
   "metadata": {},
   "source": [
    "To run the app, you can open your terminal, go to the specific folder and run `python app.py` using your designated virtual environment"
   ]
  },
  {
   "cell_type": "markdown",
   "metadata": {},
   "source": [
    "## Routes and Endpoints"
   ]
  },
  {
   "cell_type": "markdown",
   "metadata": {},
   "source": [
    "### Implement endpoints"
   ]
  },
  {
   "cell_type": "markdown",
   "metadata": {},
   "source": [
    "If you succesfully run the previous app and access the localhost:5000 , you might get an 404 not found error. This is because we **have not** define yet what will happen if people accessing our root path of the app (localhost:5000/)\n",
    "\n",
    "Add the following example of route or endpoint into your `app.py` just before the `if __name__ === '__main__':` line, and reload the page to see if it works"
   ]
  },
  {
   "cell_type": "markdown",
   "metadata": {},
   "source": [
    "```python \n",
    "@app.route('/')\n",
    "def home():\n",
    "    return 'Hello World'\n",
    "```"
   ]
  },
  {
   "cell_type": "markdown",
   "metadata": {},
   "source": [
    "Above endpoints will runs the `home` function anytime user access the `/` page.\n",
    "\n",
    "Since we are going to handle all the requests through this app, the very next step is to implement our functionalites. Let's start with implementing the functionality to read all station data\n",
    "\n",
    "we will add the `get_all_stations()` functions into our app, create a `@app.route('/stations/')` endpoint and call the function in it. The code should looks like:\n",
    "\n",
    "```python \n",
    "@app.route('/stations/')\n",
    "def route_all_stations():\n",
    "    conn = make_connection()\n",
    "    stations = get_all_stations(conn)\n",
    "    return stations.to_json()\n",
    "    \n",
    "def get_all_stations(conn):\n",
    "    query = f\"\"\"SELECT * FROM stations\"\"\"\n",
    "    result = pd.read_sql_query(query, conn)\n",
    "    return result\n",
    "```"
   ]
  },
  {
   "cell_type": "markdown",
   "metadata": {},
   "source": [
    "However, adding just above codes is not enough. If you see, there is a dependency inside the function, which is `make_connection()` function. Other than that, we will be using all the required libraries. \n",
    "\n",
    "Hence, we can complete the code by : \n",
    "- import the required libraries at the top of the `app.py` file\n",
    "- write the `make_connection()` function before any routes declarations"
   ]
  },
  {
   "cell_type": "markdown",
   "metadata": {},
   "source": [
    "Once it's completed, you should see no errors in the vscode screen, and your endpoint should work just fine and returns all the stations. It's now your task to impelement the `get_all_trips` into the app "
   ]
  },
  {
   "cell_type": "markdown",
   "metadata": {},
   "source": [
    "**TASK: Implement `get_all_trips()` method into the app** \\\n",
    "Place it under `@app.route('/trips/')` endpoint"
   ]
  },
  {
   "cell_type": "code",
   "execution_count": null,
   "metadata": {},
   "outputs": [],
   "source": [
    "# your code"
   ]
  },
  {
   "cell_type": "markdown",
   "metadata": {},
   "source": [
    "### Access Endpoints"
   ]
  },
  {
   "cell_type": "markdown",
   "metadata": {},
   "source": [
    "To access our endpoints using python, simply use `requests` library followed by the request method (post, get, put, delete, etc) the passed in the url or data "
   ]
  },
  {
   "cell_type": "code",
   "execution_count": 26,
   "metadata": {},
   "outputs": [],
   "source": [
    "url = 'http://127.0.0.1:5000/trips/'\n",
    "res = requests.get(url)"
   ]
  },
  {
   "cell_type": "code",
   "execution_count": 27,
   "metadata": {},
   "outputs": [
    {
     "data": {
      "text/plain": [
       "<Response [200]>"
      ]
     },
     "execution_count": 27,
     "metadata": {},
     "output_type": "execute_result"
    }
   ],
   "source": [
    "res"
   ]
  },
  {
   "cell_type": "markdown",
   "metadata": {},
   "source": [
    "The response sent by the server was not only contains bare data. It was packed as HTTP response, meaning that we need to unpack the response first  in order to get the data. we can use `res.json()` to obtain it, then use pandas to transform it into dataframe for readibility or future analysis purposes. "
   ]
  },
  {
   "cell_type": "code",
   "execution_count": 28,
   "metadata": {},
   "outputs": [
    {
     "data": {
      "text/html": [
       "<div>\n",
       "<style scoped>\n",
       "    .dataframe tbody tr th:only-of-type {\n",
       "        vertical-align: middle;\n",
       "    }\n",
       "\n",
       "    .dataframe tbody tr th {\n",
       "        vertical-align: top;\n",
       "    }\n",
       "\n",
       "    .dataframe thead th {\n",
       "        text-align: right;\n",
       "    }\n",
       "</style>\n",
       "<table border=\"1\" class=\"dataframe\">\n",
       "  <thead>\n",
       "    <tr style=\"text-align: right;\">\n",
       "      <th></th>\n",
       "      <th>id</th>\n",
       "      <th>subscriber_type</th>\n",
       "      <th>bikeid</th>\n",
       "      <th>start_time</th>\n",
       "      <th>start_station_id</th>\n",
       "      <th>start_station_name</th>\n",
       "      <th>end_station_id</th>\n",
       "      <th>end_station_name</th>\n",
       "      <th>duration_minutes</th>\n",
       "    </tr>\n",
       "  </thead>\n",
       "  <tbody>\n",
       "    <tr>\n",
       "      <th>0</th>\n",
       "      <td>9900289692</td>\n",
       "      <td>Walk Up</td>\n",
       "      <td>248</td>\n",
       "      <td>2015-10-02 21:12:01 UTC</td>\n",
       "      <td>1006</td>\n",
       "      <td>Zilker Park West</td>\n",
       "      <td>1008</td>\n",
       "      <td>Nueces @ 3rd</td>\n",
       "      <td>39</td>\n",
       "    </tr>\n",
       "    <tr>\n",
       "      <th>1</th>\n",
       "      <td>9900285987</td>\n",
       "      <td>24-Hour Kiosk (Austin B-cycle)</td>\n",
       "      <td>446</td>\n",
       "      <td>2014-10-26 15:12:00 UTC</td>\n",
       "      <td>2712</td>\n",
       "      <td>Toomey Rd @ South Lamar</td>\n",
       "      <td>2712</td>\n",
       "      <td>Toomey Rd @ South Lamar</td>\n",
       "      <td>31</td>\n",
       "    </tr>\n",
       "    <tr>\n",
       "      <th>2</th>\n",
       "      <td>9900285989</td>\n",
       "      <td>24-Hour Kiosk (Austin B-cycle)</td>\n",
       "      <td>203</td>\n",
       "      <td>2014-10-26 15:12:00 UTC</td>\n",
       "      <td>2712</td>\n",
       "      <td>Toomey Rd @ South Lamar</td>\n",
       "      <td>2712</td>\n",
       "      <td>Toomey Rd @ South Lamar</td>\n",
       "      <td>31</td>\n",
       "    </tr>\n",
       "    <tr>\n",
       "      <th>3</th>\n",
       "      <td>9900285991</td>\n",
       "      <td>24-Hour Kiosk (Austin B-cycle)</td>\n",
       "      <td>101</td>\n",
       "      <td>2014-10-26 15:12:00 UTC</td>\n",
       "      <td>2712</td>\n",
       "      <td>Toomey Rd @ South Lamar</td>\n",
       "      <td>2712</td>\n",
       "      <td>Toomey Rd @ South Lamar</td>\n",
       "      <td>30</td>\n",
       "    </tr>\n",
       "    <tr>\n",
       "      <th>4</th>\n",
       "      <td>9900286140</td>\n",
       "      <td>24-Hour Kiosk (Austin B-cycle)</td>\n",
       "      <td>242</td>\n",
       "      <td>2014-10-26 18:12:00 UTC</td>\n",
       "      <td>2541</td>\n",
       "      <td>State Capitol @ 14th &amp; Colorado</td>\n",
       "      <td>2541</td>\n",
       "      <td>State Capitol @ 14th &amp; Colorado</td>\n",
       "      <td>19</td>\n",
       "    </tr>\n",
       "    <tr>\n",
       "      <th>...</th>\n",
       "      <td>...</td>\n",
       "      <td>...</td>\n",
       "      <td>...</td>\n",
       "      <td>...</td>\n",
       "      <td>...</td>\n",
       "      <td>...</td>\n",
       "      <td>...</td>\n",
       "      <td>...</td>\n",
       "      <td>...</td>\n",
       "    </tr>\n",
       "    <tr>\n",
       "      <th>1324081</th>\n",
       "      <td>22837019</td>\n",
       "      <td>Local365</td>\n",
       "      <td>19660</td>\n",
       "      <td>2020-09-17 14:21:51 UTC</td>\n",
       "      <td>3838</td>\n",
       "      <td>26th/Nueces</td>\n",
       "      <td>4061</td>\n",
       "      <td>Lakeshore/Austin Hostel</td>\n",
       "      <td>68</td>\n",
       "    </tr>\n",
       "    <tr>\n",
       "      <th>1324082</th>\n",
       "      <td>23184844</td>\n",
       "      <td>Local365</td>\n",
       "      <td>19427</td>\n",
       "      <td>2020-11-13 17:02:07 UTC</td>\n",
       "      <td>3838</td>\n",
       "      <td>26th/Nueces</td>\n",
       "      <td>4061</td>\n",
       "      <td>Lakeshore/Austin Hostel</td>\n",
       "      <td>40</td>\n",
       "    </tr>\n",
       "    <tr>\n",
       "      <th>1324083</th>\n",
       "      <td>23184851</td>\n",
       "      <td>Local365</td>\n",
       "      <td>16456</td>\n",
       "      <td>2020-11-13 17:02:51 UTC</td>\n",
       "      <td>3838</td>\n",
       "      <td>26th/Nueces</td>\n",
       "      <td>4061</td>\n",
       "      <td>Lakeshore/Austin Hostel</td>\n",
       "      <td>40</td>\n",
       "    </tr>\n",
       "    <tr>\n",
       "      <th>1324084</th>\n",
       "      <td>23369810</td>\n",
       "      <td>Local365</td>\n",
       "      <td>451</td>\n",
       "      <td>2021-01-01 12:08:32 UTC</td>\n",
       "      <td>2823</td>\n",
       "      <td>East 5th/Broadway @ Capital Metro HQ</td>\n",
       "      <td>4062</td>\n",
       "      <td>Lakeshore/Pleasant Valley</td>\n",
       "      <td>13</td>\n",
       "    </tr>\n",
       "    <tr>\n",
       "      <th>1324085</th>\n",
       "      <td>23467471</td>\n",
       "      <td>Local365</td>\n",
       "      <td>18971</td>\n",
       "      <td>2021-01-30 13:16:02 UTC</td>\n",
       "      <td>3291</td>\n",
       "      <td>11th/San Jacinto</td>\n",
       "      <td>3291</td>\n",
       "      <td>11th/San Jacinto</td>\n",
       "      <td>23</td>\n",
       "    </tr>\n",
       "  </tbody>\n",
       "</table>\n",
       "<p>1324086 rows × 9 columns</p>\n",
       "</div>"
      ],
      "text/plain": [
       "                 id                 subscriber_type bikeid  \\\n",
       "0        9900289692                         Walk Up    248   \n",
       "1        9900285987  24-Hour Kiosk (Austin B-cycle)    446   \n",
       "2        9900285989  24-Hour Kiosk (Austin B-cycle)    203   \n",
       "3        9900285991  24-Hour Kiosk (Austin B-cycle)    101   \n",
       "4        9900286140  24-Hour Kiosk (Austin B-cycle)    242   \n",
       "...             ...                             ...    ...   \n",
       "1324081    22837019                        Local365  19660   \n",
       "1324082    23184844                        Local365  19427   \n",
       "1324083    23184851                        Local365  16456   \n",
       "1324084    23369810                        Local365    451   \n",
       "1324085    23467471                        Local365  18971   \n",
       "\n",
       "                      start_time start_station_id  \\\n",
       "0        2015-10-02 21:12:01 UTC             1006   \n",
       "1        2014-10-26 15:12:00 UTC             2712   \n",
       "2        2014-10-26 15:12:00 UTC             2712   \n",
       "3        2014-10-26 15:12:00 UTC             2712   \n",
       "4        2014-10-26 18:12:00 UTC             2541   \n",
       "...                          ...              ...   \n",
       "1324081  2020-09-17 14:21:51 UTC             3838   \n",
       "1324082  2020-11-13 17:02:07 UTC             3838   \n",
       "1324083  2020-11-13 17:02:51 UTC             3838   \n",
       "1324084  2021-01-01 12:08:32 UTC             2823   \n",
       "1324085  2021-01-30 13:16:02 UTC             3291   \n",
       "\n",
       "                           start_station_name end_station_id  \\\n",
       "0                            Zilker Park West           1008   \n",
       "1                     Toomey Rd @ South Lamar           2712   \n",
       "2                     Toomey Rd @ South Lamar           2712   \n",
       "3                     Toomey Rd @ South Lamar           2712   \n",
       "4             State Capitol @ 14th & Colorado           2541   \n",
       "...                                       ...            ...   \n",
       "1324081                           26th/Nueces           4061   \n",
       "1324082                           26th/Nueces           4061   \n",
       "1324083                           26th/Nueces           4061   \n",
       "1324084  East 5th/Broadway @ Capital Metro HQ           4062   \n",
       "1324085                      11th/San Jacinto           3291   \n",
       "\n",
       "                        end_station_name  duration_minutes  \n",
       "0                           Nueces @ 3rd                39  \n",
       "1                Toomey Rd @ South Lamar                31  \n",
       "2                Toomey Rd @ South Lamar                31  \n",
       "3                Toomey Rd @ South Lamar                30  \n",
       "4        State Capitol @ 14th & Colorado                19  \n",
       "...                                  ...               ...  \n",
       "1324081          Lakeshore/Austin Hostel                68  \n",
       "1324082          Lakeshore/Austin Hostel                40  \n",
       "1324083          Lakeshore/Austin Hostel                40  \n",
       "1324084        Lakeshore/Pleasant Valley                13  \n",
       "1324085                 11th/San Jacinto                23  \n",
       "\n",
       "[1324086 rows x 9 columns]"
      ]
     },
     "execution_count": 28,
     "metadata": {},
     "output_type": "execute_result"
    }
   ],
   "source": [
    "pd.DataFrame(res.json())#.head()"
   ]
  },
  {
   "cell_type": "markdown",
   "metadata": {},
   "source": [
    "## Static and Dynamic Endpoints"
   ]
  },
  {
   "cell_type": "markdown",
   "metadata": {},
   "source": [
    "On previous part we already made several endpoints which control how our server will react whenever users access it. \n",
    "If we take a look at the endpoints, it's all static : \n",
    "- `@app.route('/')`\n",
    "- `@app.route('/home/')`\n",
    "- `@app.route('/stations/')`\n",
    "- `@app.route('/trips/')`\n",
    "\n",
    "\n",
    "What if, instead of getting all the stations information, we only wanted to read a specific station information of station_id 3464 ? \\\n",
    "should we make an excact endpoint of that like `@app.route('stations/3464')`?. But what about the others? are we going to make a bunch of endpoints for each specific id like: \n",
    "- `@app.route('/stations/3464')`\n",
    "- `@app.route('/stations/2500')`\n",
    "- `@app.route('/stations/2541')`\n",
    "- and so on...\n",
    "\n",
    "Of course we shouldn't. One way to overcome the problem is by delcaring a **dynamic endpoints**. Basically, it's an endpoint which allows user to insert a variable values in it. The final looks of the dynamic endpoint version of above problem is: \n",
    "- `@app.route('stations/<station_id>')`\n",
    "\n",
    "From above endpoint, the \\<station_id\\> is the variable, and we need to make sure that it influence how our following function acts. The whole dynamic endpoints for getting specific station by its id will looks like: \n",
    "\n",
    "```python \n",
    "@app.route('/stations/<station_id>')\n",
    "def route_stations_id(station_id):\n",
    "    conn = make_connection()\n",
    "    station = get_station_id(station_id, conn)\n",
    "    return station.to_json()\n",
    "```\n"
   ]
  },
  {
   "cell_type": "markdown",
   "metadata": {},
   "source": [
    "Before accesing the endpoint, make sure that `make_connection()` and `get_station_id()` functions are included inside `app.py` script so that it won't raise an error. Now for the final step, we can try to access the dynamic endpoints by changing the `station_id` in the following codes"
   ]
  },
  {
   "cell_type": "code",
   "execution_count": 73,
   "metadata": {},
   "outputs": [],
   "source": [
    "station_id = 2500\n",
    "url = f\"http://127.0.0.1:5000/stations/{station_id}\""
   ]
  },
  {
   "cell_type": "code",
   "execution_count": 74,
   "metadata": {
    "scrolled": true
   },
   "outputs": [
    {
     "data": {
      "text/html": [
       "<div>\n",
       "<style scoped>\n",
       "    .dataframe tbody tr th:only-of-type {\n",
       "        vertical-align: middle;\n",
       "    }\n",
       "\n",
       "    .dataframe tbody tr th {\n",
       "        vertical-align: top;\n",
       "    }\n",
       "\n",
       "    .dataframe thead th {\n",
       "        text-align: right;\n",
       "    }\n",
       "</style>\n",
       "<table border=\"1\" class=\"dataframe\">\n",
       "  <thead>\n",
       "    <tr style=\"text-align: right;\">\n",
       "      <th></th>\n",
       "      <th>station_id</th>\n",
       "      <th>name</th>\n",
       "      <th>status</th>\n",
       "      <th>address</th>\n",
       "      <th>alternate_name</th>\n",
       "      <th>city_asset_number</th>\n",
       "      <th>property_type</th>\n",
       "      <th>number_of_docks</th>\n",
       "      <th>power_type</th>\n",
       "      <th>footprint_length</th>\n",
       "      <th>footprint_width</th>\n",
       "      <th>notes</th>\n",
       "      <th>council_district</th>\n",
       "      <th>modified_date</th>\n",
       "    </tr>\n",
       "  </thead>\n",
       "  <tbody>\n",
       "    <tr>\n",
       "      <th>0</th>\n",
       "      <td>2500</td>\n",
       "      <td>Republic Square</td>\n",
       "      <td>closed</td>\n",
       "      <td>425 W 4th Street</td>\n",
       "      <td></td>\n",
       "      <td></td>\n",
       "      <td></td>\n",
       "      <td></td>\n",
       "      <td></td>\n",
       "      <td></td>\n",
       "      <td></td>\n",
       "      <td></td>\n",
       "      <td>9</td>\n",
       "      <td>2021-01-04T12:00:00Z</td>\n",
       "    </tr>\n",
       "  </tbody>\n",
       "</table>\n",
       "</div>"
      ],
      "text/plain": [
       "   station_id             name  status           address alternate_name  \\\n",
       "0        2500  Republic Square  closed  425 W 4th Street                  \n",
       "\n",
       "  city_asset_number property_type number_of_docks power_type footprint_length  \\\n",
       "0                                                                               \n",
       "\n",
       "  footprint_width notes  council_district         modified_date  \n",
       "0                                       9  2021-01-04T12:00:00Z  "
      ]
     },
     "execution_count": 74,
     "metadata": {},
     "output_type": "execute_result"
    }
   ],
   "source": [
    "response = requests.get(url)\n",
    "pd.DataFrame(response.json())"
   ]
  },
  {
   "cell_type": "markdown",
   "metadata": {},
   "source": [
    "**TASK: Implement dynamic endpoints to read specific trip by its trip_id!** \\\n",
    "Place it under `@app.route('/trips/<trip_id>')` endpoint"
   ]
  },
  {
   "cell_type": "code",
   "execution_count": 31,
   "metadata": {},
   "outputs": [],
   "source": [
    "trip_id = 8269930\n",
    "url = f\"http://127.0.0.1:5000/trips/{trip_id}\""
   ]
  },
  {
   "cell_type": "code",
   "execution_count": 32,
   "metadata": {},
   "outputs": [
    {
     "data": {
      "text/html": [
       "<div>\n",
       "<style scoped>\n",
       "    .dataframe tbody tr th:only-of-type {\n",
       "        vertical-align: middle;\n",
       "    }\n",
       "\n",
       "    .dataframe tbody tr th {\n",
       "        vertical-align: top;\n",
       "    }\n",
       "\n",
       "    .dataframe thead th {\n",
       "        text-align: right;\n",
       "    }\n",
       "</style>\n",
       "<table border=\"1\" class=\"dataframe\">\n",
       "  <thead>\n",
       "    <tr style=\"text-align: right;\">\n",
       "      <th></th>\n",
       "      <th>id</th>\n",
       "      <th>subscriber_type</th>\n",
       "      <th>bikeid</th>\n",
       "      <th>start_time</th>\n",
       "      <th>start_station_id</th>\n",
       "      <th>start_station_name</th>\n",
       "      <th>end_station_id</th>\n",
       "      <th>end_station_name</th>\n",
       "      <th>duration_minutes</th>\n",
       "    </tr>\n",
       "  </thead>\n",
       "  <tbody>\n",
       "    <tr>\n",
       "      <th>0</th>\n",
       "      <td>8269930</td>\n",
       "      <td>Local365</td>\n",
       "      <td>460</td>\n",
       "      <td>2016-01-01 00:18:49 UTC</td>\n",
       "      <td>1007</td>\n",
       "      <td>Lavaca &amp; 6th</td>\n",
       "      <td>2501</td>\n",
       "      <td>5th &amp; Bowie</td>\n",
       "      <td>4</td>\n",
       "    </tr>\n",
       "  </tbody>\n",
       "</table>\n",
       "</div>"
      ],
      "text/plain": [
       "        id subscriber_type bikeid               start_time  start_station_id  \\\n",
       "0  8269930        Local365    460  2016-01-01 00:18:49 UTC              1007   \n",
       "\n",
       "  start_station_name  end_station_id end_station_name  duration_minutes  \n",
       "0       Lavaca & 6th            2501      5th & Bowie                 4  "
      ]
     },
     "execution_count": 32,
     "metadata": {},
     "output_type": "execute_result"
    }
   ],
   "source": [
    "response = requests.get(url)\n",
    "pd.DataFrame(response.json())"
   ]
  },
  {
   "cell_type": "markdown",
   "metadata": {},
   "source": [
    "## Handling JSON data as input"
   ]
  },
  {
   "cell_type": "markdown",
   "metadata": {},
   "source": [
    "Sometimes, in order to make something happens in our API, we need the user to send us the data. In this case, we need to handle how we can get the data (which mostly sent as json format) and utilize it inside our endpoint functions. \n",
    "\n",
    "In order to achieve that, we will be using flask's `request` classes.\n",
    "\n",
    "\n",
    "```python\n",
    "@app.route('/json') \n",
    "def json_example():\n",
    "    \n",
    "    req = request.get_json(force=True) # Parse the incoming json data as Dictionary\n",
    "    \n",
    "    name = req['name']\n",
    "    age = req['age']\n",
    "    address = req['address']\n",
    "    \n",
    "    return (f'''Hello {name}, your age is {age}, and your address in {address}\n",
    "            ''')\n",
    "```"
   ]
  },
  {
   "cell_type": "code",
   "execution_count": 33,
   "metadata": {},
   "outputs": [],
   "source": [
    "data = {\n",
    "    \"name\" : \"Andi\", \n",
    "    \"age\" : 24,\n",
    "    \"address\" : \"my adress\"\n",
    "}\n",
    "\n",
    "url = \"http://127.0.0.1:5000/json\""
   ]
  },
  {
   "cell_type": "code",
   "execution_count": 34,
   "metadata": {},
   "outputs": [],
   "source": [
    "res = requests.post(url, json=data)"
   ]
  },
  {
   "cell_type": "code",
   "execution_count": 35,
   "metadata": {},
   "outputs": [
    {
     "data": {
      "text/plain": [
       "<Response [200]>"
      ]
     },
     "execution_count": 35,
     "metadata": {},
     "output_type": "execute_result"
    }
   ],
   "source": [
    "res"
   ]
  },
  {
   "cell_type": "code",
   "execution_count": 36,
   "metadata": {},
   "outputs": [
    {
     "data": {
      "text/plain": [
       "'Hello Andi, your age is 24, and your address in my adress\\n            '"
      ]
     },
     "execution_count": 36,
     "metadata": {},
     "output_type": "execute_result"
    }
   ],
   "source": [
    "res.text"
   ]
  },
  {
   "cell_type": "markdown",
   "metadata": {},
   "source": [
    "Now that we already know how to handle json input, we can try to implement and endpoint in which we can insert new data into `stations` table. "
   ]
  },
  {
   "cell_type": "markdown",
   "metadata": {},
   "source": [
    "```python\n",
    "\n",
    "@app.route('/stations/add', methods=['POST']) \n",
    "def route_add_station():\n",
    "    # parse and transform incoming data into a tuple as we need \n",
    "    data = pd.Series(eval(request.get_json(force=True)))\n",
    "    data = tuple(data.fillna('').values)\n",
    "    \n",
    "    conn = make_connection()\n",
    "    result = insert_into_stations(data, conn)\n",
    "    return result\n",
    "\n",
    "\n",
    "```"
   ]
  },
  {
   "cell_type": "code",
   "execution_count": 38,
   "metadata": {},
   "outputs": [],
   "source": [
    "class NpEncoder(json.JSONEncoder):\n",
    "    def default(self, obj):\n",
    "        if isinstance(obj, np.integer):\n",
    "            return int(obj)\n",
    "        if isinstance(obj, np.floating):\n",
    "            return float(obj)\n",
    "        if isinstance(obj, np.ndarray):\n",
    "            return obj.tolist()\n",
    "        return super(NpEncoder, self).default(obj)"
   ]
  },
  {
   "cell_type": "code",
   "execution_count": 45,
   "metadata": {},
   "outputs": [],
   "source": [
    "data = trips.iloc[13].fillna('').to_dict()\n",
    "data_json = json.dumps(data, cls=NpEncoder)"
   ]
  },
  {
   "cell_type": "code",
   "execution_count": 40,
   "metadata": {},
   "outputs": [
    {
     "data": {
      "text/html": [
       "<div>\n",
       "<style scoped>\n",
       "    .dataframe tbody tr th:only-of-type {\n",
       "        vertical-align: middle;\n",
       "    }\n",
       "\n",
       "    .dataframe tbody tr th {\n",
       "        vertical-align: top;\n",
       "    }\n",
       "\n",
       "    .dataframe thead th {\n",
       "        text-align: right;\n",
       "    }\n",
       "</style>\n",
       "<table border=\"1\" class=\"dataframe\">\n",
       "  <thead>\n",
       "    <tr style=\"text-align: right;\">\n",
       "      <th></th>\n",
       "      <th>station_id</th>\n",
       "      <th>name</th>\n",
       "      <th>status</th>\n",
       "      <th>address</th>\n",
       "      <th>alternate_name</th>\n",
       "      <th>city_asset_number</th>\n",
       "      <th>property_type</th>\n",
       "      <th>number_of_docks</th>\n",
       "      <th>power_type</th>\n",
       "      <th>footprint_length</th>\n",
       "      <th>footprint_width</th>\n",
       "      <th>notes</th>\n",
       "      <th>council_district</th>\n",
       "      <th>modified_date</th>\n",
       "    </tr>\n",
       "  </thead>\n",
       "  <tbody>\n",
       "    <tr>\n",
       "      <th>0</th>\n",
       "      <td>3464</td>\n",
       "      <td>Pease Park</td>\n",
       "      <td>closed</td>\n",
       "      <td>1155 Kingsbury St</td>\n",
       "      <td>NaN</td>\n",
       "      <td>NaN</td>\n",
       "      <td>NaN</td>\n",
       "      <td>NaN</td>\n",
       "      <td>NaN</td>\n",
       "      <td>NaN</td>\n",
       "      <td>NaN</td>\n",
       "      <td>NaN</td>\n",
       "      <td>9</td>\n",
       "      <td>2021-01-04T12:00:00Z</td>\n",
       "    </tr>\n",
       "    <tr>\n",
       "      <th>1</th>\n",
       "      <td>2500</td>\n",
       "      <td>Republic Square</td>\n",
       "      <td>closed</td>\n",
       "      <td>425 W 4th Street</td>\n",
       "      <td>NaN</td>\n",
       "      <td>NaN</td>\n",
       "      <td>NaN</td>\n",
       "      <td>NaN</td>\n",
       "      <td>NaN</td>\n",
       "      <td>NaN</td>\n",
       "      <td>NaN</td>\n",
       "      <td>NaN</td>\n",
       "      <td>9</td>\n",
       "      <td>2021-01-04T12:00:00Z</td>\n",
       "    </tr>\n",
       "    <tr>\n",
       "      <th>2</th>\n",
       "      <td>2536</td>\n",
       "      <td>Waller &amp; 6th St.</td>\n",
       "      <td>closed</td>\n",
       "      <td>602 Waller St.</td>\n",
       "      <td>NaN</td>\n",
       "      <td>NaN</td>\n",
       "      <td>NaN</td>\n",
       "      <td>NaN</td>\n",
       "      <td>NaN</td>\n",
       "      <td>NaN</td>\n",
       "      <td>NaN</td>\n",
       "      <td>NaN</td>\n",
       "      <td>3</td>\n",
       "      <td>2021-01-04T12:00:00Z</td>\n",
       "    </tr>\n",
       "    <tr>\n",
       "      <th>3</th>\n",
       "      <td>2538</td>\n",
       "      <td>Bullock Museum @ Congress &amp; MLK</td>\n",
       "      <td>closed</td>\n",
       "      <td>1881 Congress Ave.</td>\n",
       "      <td>NaN</td>\n",
       "      <td>NaN</td>\n",
       "      <td>NaN</td>\n",
       "      <td>NaN</td>\n",
       "      <td>NaN</td>\n",
       "      <td>NaN</td>\n",
       "      <td>NaN</td>\n",
       "      <td>NaN</td>\n",
       "      <td>1</td>\n",
       "      <td>2021-01-04T12:00:00Z</td>\n",
       "    </tr>\n",
       "    <tr>\n",
       "      <th>4</th>\n",
       "      <td>2541</td>\n",
       "      <td>State Capitol @ 14th &amp; Colorado</td>\n",
       "      <td>closed</td>\n",
       "      <td>206 W. 14th St.</td>\n",
       "      <td>NaN</td>\n",
       "      <td>NaN</td>\n",
       "      <td>NaN</td>\n",
       "      <td>NaN</td>\n",
       "      <td>NaN</td>\n",
       "      <td>NaN</td>\n",
       "      <td>NaN</td>\n",
       "      <td>NaN</td>\n",
       "      <td>1</td>\n",
       "      <td>2021-01-04T12:00:00Z</td>\n",
       "    </tr>\n",
       "  </tbody>\n",
       "</table>\n",
       "</div>"
      ],
      "text/plain": [
       "   station_id                             name  status             address  \\\n",
       "0        3464                       Pease Park  closed   1155 Kingsbury St   \n",
       "1        2500                  Republic Square  closed    425 W 4th Street   \n",
       "2        2536                 Waller & 6th St.  closed      602 Waller St.   \n",
       "3        2538  Bullock Museum @ Congress & MLK  closed  1881 Congress Ave.   \n",
       "4        2541  State Capitol @ 14th & Colorado  closed     206 W. 14th St.   \n",
       "\n",
       "  alternate_name  city_asset_number property_type  number_of_docks power_type  \\\n",
       "0            NaN                NaN           NaN              NaN        NaN   \n",
       "1            NaN                NaN           NaN              NaN        NaN   \n",
       "2            NaN                NaN           NaN              NaN        NaN   \n",
       "3            NaN                NaN           NaN              NaN        NaN   \n",
       "4            NaN                NaN           NaN              NaN        NaN   \n",
       "\n",
       "   footprint_length  footprint_width notes  council_district  \\\n",
       "0               NaN              NaN   NaN                 9   \n",
       "1               NaN              NaN   NaN                 9   \n",
       "2               NaN              NaN   NaN                 3   \n",
       "3               NaN              NaN   NaN                 1   \n",
       "4               NaN              NaN   NaN                 1   \n",
       "\n",
       "          modified_date  \n",
       "0  2021-01-04T12:00:00Z  \n",
       "1  2021-01-04T12:00:00Z  \n",
       "2  2021-01-04T12:00:00Z  \n",
       "3  2021-01-04T12:00:00Z  \n",
       "4  2021-01-04T12:00:00Z  "
      ]
     },
     "execution_count": 40,
     "metadata": {},
     "output_type": "execute_result"
    }
   ],
   "source": [
    "stations.head()"
   ]
  },
  {
   "cell_type": "code",
   "execution_count": 91,
   "metadata": {
    "scrolled": true
   },
   "outputs": [],
   "source": [
    "url = \"http://127.0.0.1:5000/trips/average_duration\"\n",
    "res = requests.get(url)"
   ]
  },
  {
   "cell_type": "code",
   "execution_count": 92,
   "metadata": {},
   "outputs": [
    {
     "data": {
      "text/plain": [
       "<Response [200]>"
      ]
     },
     "execution_count": 92,
     "metadata": {},
     "output_type": "execute_result"
    }
   ],
   "source": [
    "res"
   ]
  },
  {
   "cell_type": "code",
   "execution_count": 93,
   "metadata": {},
   "outputs": [
    {
     "data": {
      "text/plain": [
       "'{\"duration_minutes\":30.5868362659}'"
      ]
     },
     "execution_count": 93,
     "metadata": {},
     "output_type": "execute_result"
    }
   ],
   "source": [
    "res.text"
   ]
  },
  {
   "cell_type": "code",
   "execution_count": 44,
   "metadata": {},
   "outputs": [
    {
     "name": "stderr",
     "output_type": "stream",
     "text": [
      "98it [00:02, 46.42it/s]\n"
     ]
    }
   ],
   "source": [
    "# Sintaks for iteratively insert stations (from stations_csv) into stations table\n",
    "\n",
    "for idx, data in tqdm(stations.iterrows()):\n",
    "    data = data.fillna('').to_dict()\n",
    "    data_json = json.dumps(data, cls=NpEncoder)\n",
    "    \n",
    "    url = \"http://127.0.0.1:5000/stations/add\"\n",
    "    res = requests.post(url, json=data_json)"
   ]
  },
  {
   "cell_type": "markdown",
   "metadata": {},
   "source": [
    "**TASK: Using the API, insert all the trips data (in csv) into the database by running the following codes**\\\n",
    "It might run differently on each devices, so you might get some rest while waiting for it to complete"
   ]
  },
  {
   "cell_type": "code",
   "execution_count": 49,
   "metadata": {},
   "outputs": [
    {
     "name": "stderr",
     "output_type": "stream",
     "text": [
      "17982it [07:42, 38.85it/s]\n"
     ]
    }
   ],
   "source": [
    "for idx, data in tqdm(trips.iterrows()):\n",
    "    data = data.fillna('').to_dict()\n",
    "    data_json = json.dumps(data, cls=NpEncoder)\n",
    "    \n",
    "    url = \"http://127.0.0.1:5000/trips/add\"\n",
    "    res = requests.post(url, json=data_json)"
   ]
  },
  {
   "cell_type": "code",
   "execution_count": 50,
   "metadata": {},
   "outputs": [
    {
     "data": {
      "text/plain": [
       "<Response [200]>"
      ]
     },
     "execution_count": 50,
     "metadata": {},
     "output_type": "execute_result"
    }
   ],
   "source": [
    "res"
   ]
  },
  {
   "cell_type": "code",
   "execution_count": 52,
   "metadata": {},
   "outputs": [
    {
     "data": {
      "text/plain": [
       "'OK'"
      ]
     },
     "execution_count": 52,
     "metadata": {},
     "output_type": "execute_result"
    }
   ],
   "source": [
    "res.text"
   ]
  },
  {
   "cell_type": "markdown",
   "metadata": {},
   "source": [
    "# Make your own analytic endpoints"
   ]
  },
  {
   "cell_type": "markdown",
   "metadata": {},
   "source": [
    "Based on what we've learned before, create your own endpoints which returns analytical result such as contigency tables, aggregation tables, or even just a values.\n",
    "\n",
    "*ps: if the return is dataframe/series, don't forget to change it into json with `.to_json()` method*"
   ]
  },
  {
   "cell_type": "markdown",
   "metadata": {},
   "source": [
    "\n",
    "- [x] 1 point - Created Flask App\n",
    "- [x] 4 points - Created functionality to input new data into each table for the databases\n",
    "- [x] 2 poitns - Created functionality to read or get specific data from the database\n",
    "- [ ] 3 points - Created static endpoints which return analytical result (must be different from point 2,3)\n",
    "- [ ] 3 points - Created dynamic endpoints which return analytical result (must be different from point 2,3,4)\n",
    "- [ ] 3 points - Created POST endpoint which receive input data, then utilize it to get analytical result (must be different from point 2,3,4,5)\n"
   ]
  },
  {
   "cell_type": "markdown",
   "metadata": {},
   "source": [
    "## Create Static Endpoint(s)"
   ]
  },
  {
   "cell_type": "markdown",
   "metadata": {},
   "source": [
    "You can use the following cell to try-out your function before implementing it as an endpoint"
   ]
  },
  {
   "cell_type": "code",
   "execution_count": 89,
   "metadata": {},
   "outputs": [
    {
     "data": {
      "text/plain": [
       "duration_minutes    30.586836\n",
       "dtype: float64"
      ]
     },
     "execution_count": 89,
     "metadata": {},
     "output_type": "execute_result"
    }
   ],
   "source": [
    "conn = make_connection()\n",
    "query = \"\"\"SELECT duration_minutes FROM trips\"\"\"\n",
    "result = pd.read_sql_query(query, conn).mean()\n",
    "result"
   ]
  },
  {
   "cell_type": "code",
   "execution_count": null,
   "metadata": {},
   "outputs": [],
   "source": [
    "# Your Code Here \n",
    "@app.route('/trips/average_duration') "
   ]
  },
  {
   "cell_type": "code",
   "execution_count": null,
   "metadata": {},
   "outputs": [],
   "source": [
    "# create a function to know the longest (trip in minute)\n",
    "def get_longest_duration_trip(conn):\n",
    "    query = f\"\"\"SELECT duration_minutes FROM trips ORDER by duration_minutes DESC LIMIT 1\"\"\"\n",
    "    result = pd.read_sql_query(query, conn)\n",
    "    return result\n",
    "longest_duration_trip"
   ]
  },
  {
   "cell_type": "code",
   "execution_count": 115,
   "metadata": {},
   "outputs": [
    {
     "data": {
      "text/html": [
       "<div>\n",
       "<style scoped>\n",
       "    .dataframe tbody tr th:only-of-type {\n",
       "        vertical-align: middle;\n",
       "    }\n",
       "\n",
       "    .dataframe tbody tr th {\n",
       "        vertical-align: top;\n",
       "    }\n",
       "\n",
       "    .dataframe thead th {\n",
       "        text-align: right;\n",
       "    }\n",
       "</style>\n",
       "<table border=\"1\" class=\"dataframe\">\n",
       "  <thead>\n",
       "    <tr style=\"text-align: right;\">\n",
       "      <th></th>\n",
       "      <th>total_trip</th>\n",
       "      <th>total_duration</th>\n",
       "    </tr>\n",
       "    <tr>\n",
       "      <th>subscriber_type</th>\n",
       "      <th></th>\n",
       "      <th></th>\n",
       "    </tr>\n",
       "  </thead>\n",
       "  <tbody>\n",
       "    <tr>\n",
       "      <th>Walk Up</th>\n",
       "      <td>374151</td>\n",
       "      <td>15928365</td>\n",
       "    </tr>\n",
       "    <tr>\n",
       "      <th>U.T. Student Membership</th>\n",
       "      <td>287267</td>\n",
       "      <td>5155436</td>\n",
       "    </tr>\n",
       "    <tr>\n",
       "      <th>Local365</th>\n",
       "      <td>236189</td>\n",
       "      <td>3801752</td>\n",
       "    </tr>\n",
       "    <tr>\n",
       "      <th>24-Hour Kiosk (Austin B-cycle)</th>\n",
       "      <td>108672</td>\n",
       "      <td>4062151</td>\n",
       "    </tr>\n",
       "    <tr>\n",
       "      <th>Local30</th>\n",
       "      <td>69062</td>\n",
       "      <td>1234248</td>\n",
       "    </tr>\n",
       "    <tr>\n",
       "      <th>...</th>\n",
       "      <td>...</td>\n",
       "      <td>...</td>\n",
       "    </tr>\n",
       "    <tr>\n",
       "      <th>Local365 Youth (age 13-17 riders)- 1/2 off Special</th>\n",
       "      <td>3</td>\n",
       "      <td>21</td>\n",
       "    </tr>\n",
       "    <tr>\n",
       "      <th>Annual Pass (30 minute)</th>\n",
       "      <td>2</td>\n",
       "      <td>17</td>\n",
       "    </tr>\n",
       "    <tr>\n",
       "      <th>Heartland Pass (Annual Pay)</th>\n",
       "      <td>1</td>\n",
       "      <td>47</td>\n",
       "    </tr>\n",
       "    <tr>\n",
       "      <th>Heartland Pass (Monthly Pay)</th>\n",
       "      <td>1</td>\n",
       "      <td>23</td>\n",
       "    </tr>\n",
       "    <tr>\n",
       "      <th>24-Hour Membership (Austin B-cycle)</th>\n",
       "      <td>1</td>\n",
       "      <td>29</td>\n",
       "    </tr>\n",
       "  </tbody>\n",
       "</table>\n",
       "<p>79 rows × 2 columns</p>\n",
       "</div>"
      ],
      "text/plain": [
       "                                                    total_trip  total_duration\n",
       "subscriber_type                                                               \n",
       "Walk Up                                                 374151        15928365\n",
       "U.T. Student Membership                                 287267         5155436\n",
       "Local365                                                236189         3801752\n",
       "24-Hour Kiosk (Austin B-cycle)                          108672         4062151\n",
       "Local30                                                  69062         1234248\n",
       "...                                                        ...             ...\n",
       "Local365 Youth (age 13-17 riders)- 1/2 off Special           3              21\n",
       "Annual Pass (30 minute)                                      2              17\n",
       "Heartland Pass (Annual Pay)                                  1              47\n",
       "Heartland Pass (Monthly Pay)                                 1              23\n",
       "24-Hour Membership (Austin B-cycle)                          1              29\n",
       "\n",
       "[79 rows x 2 columns]"
      ]
     },
     "execution_count": 115,
     "metadata": {},
     "output_type": "execute_result"
    }
   ],
   "source": [
    "# create a function to know subscriber type \n",
    "conn = make_connection()\n",
    "\n",
    "def get_subscriber_type(conn):\n",
    "    query = \"\"\"SELECT subscriber_type, duration_minutes FROM trips\"\"\"\n",
    "    selected_data = pd.read_sql_query(query, conn)\n",
    "    result = selected_data.groupby('subscriber_type').agg(total_trip = ('subscriber_type', 'count'),\n",
    "                                                     total_duration = ('duration_minutes','sum')).sort_values(by='total_trip', ascending = False)\n",
    "    return result\n"
   ]
  },
  {
   "cell_type": "code",
   "execution_count": 109,
   "metadata": {},
   "outputs": [
    {
     "name": "stdout",
     "output_type": "stream",
     "text": [
      "<class 'pandas.core.frame.DataFrame'>\n",
      "RangeIndex: 1342066 entries, 0 to 1342065\n",
      "Data columns (total 2 columns):\n",
      " #   Column            Non-Null Count    Dtype \n",
      "---  ------            --------------    ----- \n",
      " 0   subscriber_type   1342066 non-null  object\n",
      " 1   duration_minutes  1342066 non-null  int64 \n",
      "dtypes: int64(1), object(1)\n",
      "memory usage: 20.5+ MB\n"
     ]
    }
   ],
   "source": [
    "selected_data.info()"
   ]
  },
  {
   "cell_type": "code",
   "execution_count": null,
   "metadata": {},
   "outputs": [],
   "source": []
  },
  {
   "cell_type": "markdown",
   "metadata": {},
   "source": [
    "## Create Dynamic Endpoints "
   ]
  },
  {
   "cell_type": "markdown",
   "metadata": {},
   "source": [
    "You can use the following cell to try-out your function before implementing it as an endpoint"
   ]
  },
  {
   "cell_type": "code",
   "execution_count": null,
   "metadata": {},
   "outputs": [],
   "source": [
    "# Your Code Here\n",
    "@app.route('/trips/average_duration/<bike_id>')"
   ]
  },
  {
   "cell_type": "code",
   "execution_count": 63,
   "metadata": {},
   "outputs": [
    {
     "data": {
      "text/plain": [
       "<function __main__.get_longest_duration_trip_id(bikeid, conn)>"
      ]
     },
     "execution_count": 63,
     "metadata": {},
     "output_type": "execute_result"
    }
   ],
   "source": [
    "# create a function to know the longest trip of a specific bikeid (in minute)\n",
    "def get_longest_duration_trip_bikeid(bikeid, conn):\n",
    "    query = f\"\"\"SELECT duration_minutes FROM trips WHERE bikeid = {bikeid} ORDER by duration_minutes DESC LIMIT 1\"\"\"\n",
    "    result = pd.read_sql_query(query, conn)\n",
    "    return result\n",
    "get_longest_duration_trip_bikeid"
   ]
  },
  {
   "cell_type": "code",
   "execution_count": 69,
   "metadata": {
    "scrolled": false
   },
   "outputs": [
    {
     "data": {
      "text/html": [
       "<div>\n",
       "<style scoped>\n",
       "    .dataframe tbody tr th:only-of-type {\n",
       "        vertical-align: middle;\n",
       "    }\n",
       "\n",
       "    .dataframe tbody tr th {\n",
       "        vertical-align: top;\n",
       "    }\n",
       "\n",
       "    .dataframe thead th {\n",
       "        text-align: right;\n",
       "    }\n",
       "</style>\n",
       "<table border=\"1\" class=\"dataframe\">\n",
       "  <thead>\n",
       "    <tr style=\"text-align: right;\">\n",
       "      <th></th>\n",
       "      <th>trip_id</th>\n",
       "      <th>subscriber_type</th>\n",
       "      <th>bikeid</th>\n",
       "      <th>start_time</th>\n",
       "      <th>start_station_id</th>\n",
       "      <th>start_station_name</th>\n",
       "      <th>end_station_id</th>\n",
       "      <th>end_station_name</th>\n",
       "      <th>duration_minutes</th>\n",
       "    </tr>\n",
       "  </thead>\n",
       "  <tbody>\n",
       "    <tr>\n",
       "      <th>0</th>\n",
       "      <td>23455589</td>\n",
       "      <td>Local365</td>\n",
       "      <td>174</td>\n",
       "      <td>2021-01-26 17:47:42 UTC</td>\n",
       "      <td>4059.0</td>\n",
       "      <td>Nash Hernandez/East @ RBJ South</td>\n",
       "      <td>3660.0</td>\n",
       "      <td>East 6th/Medina</td>\n",
       "      <td>7</td>\n",
       "    </tr>\n",
       "    <tr>\n",
       "      <th>1</th>\n",
       "      <td>23459960</td>\n",
       "      <td>Local365</td>\n",
       "      <td>19265</td>\n",
       "      <td>2021-01-28 08:03:52 UTC</td>\n",
       "      <td>4054.0</td>\n",
       "      <td>Rosewood/Chicon</td>\n",
       "      <td>4055.0</td>\n",
       "      <td>11th/Salina</td>\n",
       "      <td>16</td>\n",
       "    </tr>\n",
       "    <tr>\n",
       "      <th>2</th>\n",
       "      <td>23436548</td>\n",
       "      <td>Local365</td>\n",
       "      <td>18331</td>\n",
       "      <td>2021-01-21 07:09:48 UTC</td>\n",
       "      <td>4055.0</td>\n",
       "      <td>11th/Salina</td>\n",
       "      <td>4055.0</td>\n",
       "      <td>11th/Salina</td>\n",
       "      <td>25</td>\n",
       "    </tr>\n",
       "    <tr>\n",
       "      <th>3</th>\n",
       "      <td>23382542</td>\n",
       "      <td>Local365</td>\n",
       "      <td>19682</td>\n",
       "      <td>2021-01-04 09:38:18 UTC</td>\n",
       "      <td>4062.0</td>\n",
       "      <td>Lakeshore/Pleasant Valley</td>\n",
       "      <td>3293.0</td>\n",
       "      <td>East 2nd/Pedernales</td>\n",
       "      <td>5</td>\n",
       "    </tr>\n",
       "    <tr>\n",
       "      <th>4</th>\n",
       "      <td>23374882</td>\n",
       "      <td>Local365</td>\n",
       "      <td>19437</td>\n",
       "      <td>2021-01-02 15:04:01 UTC</td>\n",
       "      <td>3293.0</td>\n",
       "      <td>East 2nd/Pedernales</td>\n",
       "      <td>4062.0</td>\n",
       "      <td>Lakeshore/Pleasant Valley</td>\n",
       "      <td>5</td>\n",
       "    </tr>\n",
       "  </tbody>\n",
       "</table>\n",
       "</div>"
      ],
      "text/plain": [
       "    trip_id subscriber_type bikeid               start_time  start_station_id  \\\n",
       "0  23455589        Local365    174  2021-01-26 17:47:42 UTC            4059.0   \n",
       "1  23459960        Local365  19265  2021-01-28 08:03:52 UTC            4054.0   \n",
       "2  23436548        Local365  18331  2021-01-21 07:09:48 UTC            4055.0   \n",
       "3  23382542        Local365  19682  2021-01-04 09:38:18 UTC            4062.0   \n",
       "4  23374882        Local365  19437  2021-01-02 15:04:01 UTC            3293.0   \n",
       "\n",
       "                start_station_name  end_station_id           end_station_name  \\\n",
       "0  Nash Hernandez/East @ RBJ South          3660.0            East 6th/Medina   \n",
       "1                  Rosewood/Chicon          4055.0               11th/Salina    \n",
       "2                     11th/Salina           4055.0               11th/Salina    \n",
       "3        Lakeshore/Pleasant Valley          3293.0        East 2nd/Pedernales   \n",
       "4              East 2nd/Pedernales          4062.0  Lakeshore/Pleasant Valley   \n",
       "\n",
       "   duration_minutes  \n",
       "0                 7  \n",
       "1                16  \n",
       "2                25  \n",
       "3                 5  \n",
       "4                 5  "
      ]
     },
     "execution_count": 69,
     "metadata": {},
     "output_type": "execute_result"
    }
   ],
   "source": [
    "trips.head()"
   ]
  },
  {
   "cell_type": "code",
   "execution_count": 72,
   "metadata": {
    "scrolled": false
   },
   "outputs": [
    {
     "data": {
      "text/html": [
       "<div>\n",
       "<style scoped>\n",
       "    .dataframe tbody tr th:only-of-type {\n",
       "        vertical-align: middle;\n",
       "    }\n",
       "\n",
       "    .dataframe tbody tr th {\n",
       "        vertical-align: top;\n",
       "    }\n",
       "\n",
       "    .dataframe thead th {\n",
       "        text-align: right;\n",
       "    }\n",
       "</style>\n",
       "<table border=\"1\" class=\"dataframe\">\n",
       "  <thead>\n",
       "    <tr style=\"text-align: right;\">\n",
       "      <th></th>\n",
       "      <th>station_id</th>\n",
       "      <th>name</th>\n",
       "      <th>status</th>\n",
       "      <th>address</th>\n",
       "      <th>alternate_name</th>\n",
       "      <th>city_asset_number</th>\n",
       "      <th>property_type</th>\n",
       "      <th>number_of_docks</th>\n",
       "      <th>power_type</th>\n",
       "      <th>footprint_length</th>\n",
       "      <th>footprint_width</th>\n",
       "      <th>notes</th>\n",
       "      <th>council_district</th>\n",
       "      <th>modified_date</th>\n",
       "    </tr>\n",
       "  </thead>\n",
       "  <tbody>\n",
       "    <tr>\n",
       "      <th>0</th>\n",
       "      <td>3464</td>\n",
       "      <td>Pease Park</td>\n",
       "      <td>closed</td>\n",
       "      <td>1155 Kingsbury St</td>\n",
       "      <td>NaN</td>\n",
       "      <td>NaN</td>\n",
       "      <td>NaN</td>\n",
       "      <td>NaN</td>\n",
       "      <td>NaN</td>\n",
       "      <td>NaN</td>\n",
       "      <td>NaN</td>\n",
       "      <td>NaN</td>\n",
       "      <td>9</td>\n",
       "      <td>2021-01-04T12:00:00Z</td>\n",
       "    </tr>\n",
       "    <tr>\n",
       "      <th>1</th>\n",
       "      <td>2500</td>\n",
       "      <td>Republic Square</td>\n",
       "      <td>closed</td>\n",
       "      <td>425 W 4th Street</td>\n",
       "      <td>NaN</td>\n",
       "      <td>NaN</td>\n",
       "      <td>NaN</td>\n",
       "      <td>NaN</td>\n",
       "      <td>NaN</td>\n",
       "      <td>NaN</td>\n",
       "      <td>NaN</td>\n",
       "      <td>NaN</td>\n",
       "      <td>9</td>\n",
       "      <td>2021-01-04T12:00:00Z</td>\n",
       "    </tr>\n",
       "    <tr>\n",
       "      <th>2</th>\n",
       "      <td>2536</td>\n",
       "      <td>Waller &amp; 6th St.</td>\n",
       "      <td>closed</td>\n",
       "      <td>602 Waller St.</td>\n",
       "      <td>NaN</td>\n",
       "      <td>NaN</td>\n",
       "      <td>NaN</td>\n",
       "      <td>NaN</td>\n",
       "      <td>NaN</td>\n",
       "      <td>NaN</td>\n",
       "      <td>NaN</td>\n",
       "      <td>NaN</td>\n",
       "      <td>3</td>\n",
       "      <td>2021-01-04T12:00:00Z</td>\n",
       "    </tr>\n",
       "    <tr>\n",
       "      <th>3</th>\n",
       "      <td>2538</td>\n",
       "      <td>Bullock Museum @ Congress &amp; MLK</td>\n",
       "      <td>closed</td>\n",
       "      <td>1881 Congress Ave.</td>\n",
       "      <td>NaN</td>\n",
       "      <td>NaN</td>\n",
       "      <td>NaN</td>\n",
       "      <td>NaN</td>\n",
       "      <td>NaN</td>\n",
       "      <td>NaN</td>\n",
       "      <td>NaN</td>\n",
       "      <td>NaN</td>\n",
       "      <td>1</td>\n",
       "      <td>2021-01-04T12:00:00Z</td>\n",
       "    </tr>\n",
       "    <tr>\n",
       "      <th>4</th>\n",
       "      <td>2541</td>\n",
       "      <td>State Capitol @ 14th &amp; Colorado</td>\n",
       "      <td>closed</td>\n",
       "      <td>206 W. 14th St.</td>\n",
       "      <td>NaN</td>\n",
       "      <td>NaN</td>\n",
       "      <td>NaN</td>\n",
       "      <td>NaN</td>\n",
       "      <td>NaN</td>\n",
       "      <td>NaN</td>\n",
       "      <td>NaN</td>\n",
       "      <td>NaN</td>\n",
       "      <td>1</td>\n",
       "      <td>2021-01-04T12:00:00Z</td>\n",
       "    </tr>\n",
       "  </tbody>\n",
       "</table>\n",
       "</div>"
      ],
      "text/plain": [
       "   station_id                             name  status             address  \\\n",
       "0        3464                       Pease Park  closed   1155 Kingsbury St   \n",
       "1        2500                  Republic Square  closed    425 W 4th Street   \n",
       "2        2536                 Waller & 6th St.  closed      602 Waller St.   \n",
       "3        2538  Bullock Museum @ Congress & MLK  closed  1881 Congress Ave.   \n",
       "4        2541  State Capitol @ 14th & Colorado  closed     206 W. 14th St.   \n",
       "\n",
       "  alternate_name  city_asset_number property_type  number_of_docks power_type  \\\n",
       "0            NaN                NaN           NaN              NaN        NaN   \n",
       "1            NaN                NaN           NaN              NaN        NaN   \n",
       "2            NaN                NaN           NaN              NaN        NaN   \n",
       "3            NaN                NaN           NaN              NaN        NaN   \n",
       "4            NaN                NaN           NaN              NaN        NaN   \n",
       "\n",
       "   footprint_length  footprint_width notes  council_district  \\\n",
       "0               NaN              NaN   NaN                 9   \n",
       "1               NaN              NaN   NaN                 9   \n",
       "2               NaN              NaN   NaN                 3   \n",
       "3               NaN              NaN   NaN                 1   \n",
       "4               NaN              NaN   NaN                 1   \n",
       "\n",
       "          modified_date  \n",
       "0  2021-01-04T12:00:00Z  \n",
       "1  2021-01-04T12:00:00Z  \n",
       "2  2021-01-04T12:00:00Z  \n",
       "3  2021-01-04T12:00:00Z  \n",
       "4  2021-01-04T12:00:00Z  "
      ]
     },
     "execution_count": 72,
     "metadata": {},
     "output_type": "execute_result"
    }
   ],
   "source": [
    "stations.head()"
   ]
  },
  {
   "cell_type": "code",
   "execution_count": 101,
   "metadata": {},
   "outputs": [],
   "source": [
    "url = \"http://127.0.0.1:5000/trips/average_trip_duration/174\"\n",
    "res = requests.get(url)"
   ]
  },
  {
   "cell_type": "code",
   "execution_count": 103,
   "metadata": {},
   "outputs": [
    {
     "data": {
      "text/plain": [
       "<Response [200]>"
      ]
     },
     "execution_count": 103,
     "metadata": {},
     "output_type": "execute_result"
    }
   ],
   "source": [
    "res"
   ]
  },
  {
   "cell_type": "markdown",
   "metadata": {},
   "source": [
    "## Create POST Endpoints"
   ]
  },
  {
   "cell_type": "markdown",
   "metadata": {},
   "source": [
    "You can use the following cell to try-out your function before implementing it as an endpoint.\n",
    "\n",
    "If you still find it quite difficult, here's an example case you might wanted to try on:\n",
    "- input : a dictionary contained a datetime period\n",
    "    - { \"period\" : \"2015-08\" }\n",
    "- output:\n",
    "    - Aggregation table of bike rent activities for each station in that specific period\n",
    "- example code: \n",
    "\n",
    "```python \n",
    "input_data = request.get_json() # Get the input as dictionary\n",
    "specified_date = input_data['period'] # Select specific items (period) from the dictionary (the value will be \"2015-08\")\n",
    "\n",
    "# Subset the data with query \n",
    "conn = make_connection()\n",
    "query = f\"SELECT * FROM stations WHERE start_time LIKE ({specified_date}%)\"\n",
    "selected_data = pd.read_sql_query(query, conn)\n",
    "\n",
    "# Make the aggregate\n",
    "result = selected_data.groupby('start_station_id').agg({\n",
    "    'bikeid' : 'count', \n",
    "    'duration_minutes' : 'mean'\n",
    "})\n",
    "\n",
    "# Return the result\n",
    "return result.to_json()\n",
    "\n",
    "```"
   ]
  },
  {
   "cell_type": "code",
   "execution_count": 8,
   "metadata": {},
   "outputs": [],
   "source": [
    "# coba\n",
    "conn = make_connection()\n",
    "query = f\"\"\"SELECT * FROM trips WHERE start_time LIKE '2018-08%'\"\"\"\n",
    "selected_data = pd.read_sql_query(query, conn)"
   ]
  },
  {
   "cell_type": "code",
   "execution_count": 18,
   "metadata": {},
   "outputs": [],
   "source": [
    "result = selected_data.groupby('start_station_id').agg({\n",
    "    'bikeid' : 'count', \n",
    "    'duration_minutes' : 'mean'\n",
    "})"
   ]
  },
  {
   "cell_type": "code",
   "execution_count": 19,
   "metadata": {},
   "outputs": [
    {
     "data": {
      "text/html": [
       "<div>\n",
       "<style scoped>\n",
       "    .dataframe tbody tr th:only-of-type {\n",
       "        vertical-align: middle;\n",
       "    }\n",
       "\n",
       "    .dataframe tbody tr th {\n",
       "        vertical-align: top;\n",
       "    }\n",
       "\n",
       "    .dataframe thead th {\n",
       "        text-align: right;\n",
       "    }\n",
       "</style>\n",
       "<table border=\"1\" class=\"dataframe\">\n",
       "  <thead>\n",
       "    <tr style=\"text-align: right;\">\n",
       "      <th></th>\n",
       "      <th>bikeid</th>\n",
       "      <th>duration_minutes</th>\n",
       "    </tr>\n",
       "    <tr>\n",
       "      <th>start_station_id</th>\n",
       "      <th></th>\n",
       "      <th></th>\n",
       "    </tr>\n",
       "  </thead>\n",
       "  <tbody>\n",
       "    <tr>\n",
       "      <th>2494</th>\n",
       "      <td>263</td>\n",
       "      <td>34.448669</td>\n",
       "    </tr>\n",
       "    <tr>\n",
       "      <th>2495</th>\n",
       "      <td>185</td>\n",
       "      <td>38.745946</td>\n",
       "    </tr>\n",
       "    <tr>\n",
       "      <th>2496</th>\n",
       "      <td>112</td>\n",
       "      <td>23.196429</td>\n",
       "    </tr>\n",
       "    <tr>\n",
       "      <th>2497</th>\n",
       "      <td>237</td>\n",
       "      <td>44.818565</td>\n",
       "    </tr>\n",
       "    <tr>\n",
       "      <th>2498</th>\n",
       "      <td>186</td>\n",
       "      <td>31.994624</td>\n",
       "    </tr>\n",
       "    <tr>\n",
       "      <th>2499</th>\n",
       "      <td>255</td>\n",
       "      <td>27.400000</td>\n",
       "    </tr>\n",
       "    <tr>\n",
       "      <th>2501</th>\n",
       "      <td>286</td>\n",
       "      <td>33.290210</td>\n",
       "    </tr>\n",
       "    <tr>\n",
       "      <th>2502</th>\n",
       "      <td>161</td>\n",
       "      <td>32.372671</td>\n",
       "    </tr>\n",
       "    <tr>\n",
       "      <th>2503</th>\n",
       "      <td>162</td>\n",
       "      <td>42.401235</td>\n",
       "    </tr>\n",
       "    <tr>\n",
       "      <th>2504</th>\n",
       "      <td>156</td>\n",
       "      <td>29.352564</td>\n",
       "    </tr>\n",
       "  </tbody>\n",
       "</table>\n",
       "</div>"
      ],
      "text/plain": [
       "                  bikeid  duration_minutes\n",
       "start_station_id                          \n",
       "2494                 263         34.448669\n",
       "2495                 185         38.745946\n",
       "2496                 112         23.196429\n",
       "2497                 237         44.818565\n",
       "2498                 186         31.994624\n",
       "2499                 255         27.400000\n",
       "2501                 286         33.290210\n",
       "2502                 161         32.372671\n",
       "2503                 162         42.401235\n",
       "2504                 156         29.352564"
      ]
     },
     "execution_count": 19,
     "metadata": {},
     "output_type": "execute_result"
    }
   ],
   "source": [
    "result.head(10)"
   ]
  },
  {
   "cell_type": "code",
   "execution_count": 21,
   "metadata": {
    "scrolled": true
   },
   "outputs": [],
   "source": [
    "result2 = selected_data.groupby('start_station_id').agg(\n",
    "    bike_count = ('bikeid' , 'count'), \n",
    "    average_duration = ('duration_minutes' , 'mean')\n",
    ")"
   ]
  },
  {
   "cell_type": "code",
   "execution_count": 22,
   "metadata": {},
   "outputs": [
    {
     "data": {
      "text/html": [
       "<div>\n",
       "<style scoped>\n",
       "    .dataframe tbody tr th:only-of-type {\n",
       "        vertical-align: middle;\n",
       "    }\n",
       "\n",
       "    .dataframe tbody tr th {\n",
       "        vertical-align: top;\n",
       "    }\n",
       "\n",
       "    .dataframe thead th {\n",
       "        text-align: right;\n",
       "    }\n",
       "</style>\n",
       "<table border=\"1\" class=\"dataframe\">\n",
       "  <thead>\n",
       "    <tr style=\"text-align: right;\">\n",
       "      <th></th>\n",
       "      <th>bike_count</th>\n",
       "      <th>average_duration</th>\n",
       "    </tr>\n",
       "    <tr>\n",
       "      <th>start_station_id</th>\n",
       "      <th></th>\n",
       "      <th></th>\n",
       "    </tr>\n",
       "  </thead>\n",
       "  <tbody>\n",
       "    <tr>\n",
       "      <th>2494</th>\n",
       "      <td>263</td>\n",
       "      <td>34.448669</td>\n",
       "    </tr>\n",
       "    <tr>\n",
       "      <th>2495</th>\n",
       "      <td>185</td>\n",
       "      <td>38.745946</td>\n",
       "    </tr>\n",
       "    <tr>\n",
       "      <th>2496</th>\n",
       "      <td>112</td>\n",
       "      <td>23.196429</td>\n",
       "    </tr>\n",
       "    <tr>\n",
       "      <th>2497</th>\n",
       "      <td>237</td>\n",
       "      <td>44.818565</td>\n",
       "    </tr>\n",
       "    <tr>\n",
       "      <th>2498</th>\n",
       "      <td>186</td>\n",
       "      <td>31.994624</td>\n",
       "    </tr>\n",
       "    <tr>\n",
       "      <th>2499</th>\n",
       "      <td>255</td>\n",
       "      <td>27.400000</td>\n",
       "    </tr>\n",
       "    <tr>\n",
       "      <th>2501</th>\n",
       "      <td>286</td>\n",
       "      <td>33.290210</td>\n",
       "    </tr>\n",
       "    <tr>\n",
       "      <th>2502</th>\n",
       "      <td>161</td>\n",
       "      <td>32.372671</td>\n",
       "    </tr>\n",
       "    <tr>\n",
       "      <th>2503</th>\n",
       "      <td>162</td>\n",
       "      <td>42.401235</td>\n",
       "    </tr>\n",
       "    <tr>\n",
       "      <th>2504</th>\n",
       "      <td>156</td>\n",
       "      <td>29.352564</td>\n",
       "    </tr>\n",
       "  </tbody>\n",
       "</table>\n",
       "</div>"
      ],
      "text/plain": [
       "                  bike_count  average_duration\n",
       "start_station_id                              \n",
       "2494                     263         34.448669\n",
       "2495                     185         38.745946\n",
       "2496                     112         23.196429\n",
       "2497                     237         44.818565\n",
       "2498                     186         31.994624\n",
       "2499                     255         27.400000\n",
       "2501                     286         33.290210\n",
       "2502                     161         32.372671\n",
       "2503                     162         42.401235\n",
       "2504                     156         29.352564"
      ]
     },
     "execution_count": 22,
     "metadata": {},
     "output_type": "execute_result"
    }
   ],
   "source": [
    "result2.head(10)"
   ]
  },
  {
   "cell_type": "code",
   "execution_count": 116,
   "metadata": {},
   "outputs": [],
   "source": [
    "data = { \"period\" : \"2015-08\" }\n",
    "\n",
    "url = \"http://127.0.0.1:5000/trips/summary_by_date\""
   ]
  },
  {
   "cell_type": "code",
   "execution_count": 117,
   "metadata": {},
   "outputs": [],
   "source": [
    "res = requests.post(url, json=data)"
   ]
  },
  {
   "cell_type": "code",
   "execution_count": 118,
   "metadata": {},
   "outputs": [
    {
     "data": {
      "text/plain": [
       "<Response [200]>"
      ]
     },
     "execution_count": 118,
     "metadata": {},
     "output_type": "execute_result"
    }
   ],
   "source": [
    "res"
   ]
  },
  {
   "cell_type": "code",
   "execution_count": 119,
   "metadata": {
    "scrolled": true
   },
   "outputs": [
    {
     "data": {
      "text/plain": [
       "'{\"bike_count\":{\"1007\":91,\"1008\":311,\"2494\":791,\"2495\":590,\"2496\":250,\"2497\":440,\"2498\":427,\"2499\":635,\"2501\":694,\"2502\":422,\"2503\":292,\"2504\":213,\"2536\":106,\"2537\":290,\"2538\":229,\"2539\":394,\"2540\":173,\"2541\":84,\"2542\":147,\"2544\":122,\"2545\":46,\"2547\":119,\"2548\":199,\"2549\":297,\"2550\":296,\"2552\":430,\"2561\":128,\"2562\":193,\"2563\":260,\"2564\":308,\"2565\":249,\"2566\":503,\"2567\":306,\"2568\":112,\"2569\":210,\"2570\":321,\"2571\":150,\"2572\":314,\"2575\":643,\"2576\":226,\"2707\":655,\"2711\":501,\"2712\":241,\"2822\":189,\"2823\":58,\"3291\":50,\"3292\":71,\"3293\":40,\"\":707},\"average_duration\":{\"1007\":18.2307692308,\"1008\":13.2379421222,\"2494\":26.0341340076,\"2495\":15.4593220339,\"2496\":27.624,\"2497\":27.4136363636,\"2498\":22.018735363,\"2499\":18.0960629921,\"2501\":15.476945245,\"2502\":31.2819905213,\"2503\":29.0719178082,\"2504\":21.9530516432,\"2536\":32.1509433962,\"2537\":12.1206896552,\"2538\":25.3886462882,\"2539\":22.9035532995,\"2540\":26.9190751445,\"2541\":22.75,\"2542\":14.5238095238,\"2544\":14.8442622951,\"2545\":11.2608695652,\"2547\":52.487394958,\"2548\":35.4522613065,\"2549\":26.0673400673,\"2550\":15.4425675676,\"2552\":9.5860465116,\"2561\":35.359375,\"2562\":30.9430051813,\"2563\":19.8038461538,\"2564\":12.1558441558,\"2565\":17.5421686747,\"2566\":19.5526838966,\"2567\":23.5816993464,\"2568\":16.5178571429,\"2569\":16.5380952381,\"2570\":23.4267912773,\"2571\":16.64,\"2572\":24.9936305732,\"2575\":34.4214618974,\"2576\":33.1504424779,\"2707\":25.6106870229,\"2711\":25.8003992016,\"2712\":19.867219917,\"2822\":12.3015873016,\"2823\":18.2413793103,\"3291\":20.82,\"3292\":13.0563380282,\"3293\":14.525,\"\":33.7538896747}}'"
      ]
     },
     "execution_count": 119,
     "metadata": {},
     "output_type": "execute_result"
    }
   ],
   "source": [
    "res.text"
   ]
  },
  {
   "cell_type": "code",
   "execution_count": null,
   "metadata": {},
   "outputs": [],
   "source": []
  },
  {
   "cell_type": "code",
   "execution_count": 38,
   "metadata": {},
   "outputs": [],
   "source": [
    "# Buat sendiri\n",
    "data = {\"period\" : \"2016-01\",\n",
    "        \"start_station\" : \"Rosewood/Chicon\"}"
   ]
  },
  {
   "cell_type": "code",
   "execution_count": 41,
   "metadata": {},
   "outputs": [],
   "source": [
    "conn = make_connection()\n",
    "query = f\"\"\"SELECT * FROM trips WHERE start_time LIKE '2016-01%' AND start_station_name LIKE 'Lavaca & 6th'\"\"\"\n",
    "selected_data = pd.read_sql_query(query, conn)"
   ]
  },
  {
   "cell_type": "code",
   "execution_count": 42,
   "metadata": {},
   "outputs": [
    {
     "data": {
      "text/html": [
       "<div>\n",
       "<style scoped>\n",
       "    .dataframe tbody tr th:only-of-type {\n",
       "        vertical-align: middle;\n",
       "    }\n",
       "\n",
       "    .dataframe tbody tr th {\n",
       "        vertical-align: top;\n",
       "    }\n",
       "\n",
       "    .dataframe thead th {\n",
       "        text-align: right;\n",
       "    }\n",
       "</style>\n",
       "<table border=\"1\" class=\"dataframe\">\n",
       "  <thead>\n",
       "    <tr style=\"text-align: right;\">\n",
       "      <th></th>\n",
       "      <th>bike_count</th>\n",
       "      <th>average_duration</th>\n",
       "    </tr>\n",
       "    <tr>\n",
       "      <th>bikeid</th>\n",
       "      <th></th>\n",
       "      <th></th>\n",
       "    </tr>\n",
       "  </thead>\n",
       "  <tbody>\n",
       "    <tr>\n",
       "      <th>101</th>\n",
       "      <td>6</td>\n",
       "      <td>6.333333</td>\n",
       "    </tr>\n",
       "    <tr>\n",
       "      <th>104</th>\n",
       "      <td>2</td>\n",
       "      <td>20.000000</td>\n",
       "    </tr>\n",
       "    <tr>\n",
       "      <th>122</th>\n",
       "      <td>2</td>\n",
       "      <td>20.000000</td>\n",
       "    </tr>\n",
       "    <tr>\n",
       "      <th>124</th>\n",
       "      <td>2</td>\n",
       "      <td>22.000000</td>\n",
       "    </tr>\n",
       "    <tr>\n",
       "      <th>132</th>\n",
       "      <td>2</td>\n",
       "      <td>2.000000</td>\n",
       "    </tr>\n",
       "  </tbody>\n",
       "</table>\n",
       "</div>"
      ],
      "text/plain": [
       "        bike_count  average_duration\n",
       "bikeid                              \n",
       "101              6          6.333333\n",
       "104              2         20.000000\n",
       "122              2         20.000000\n",
       "124              2         22.000000\n",
       "132              2          2.000000"
      ]
     },
     "execution_count": 42,
     "metadata": {},
     "output_type": "execute_result"
    }
   ],
   "source": [
    "result = selected_data.groupby('bikeid').agg(\n",
    "    bike_count = ('bikeid' , 'count'), \n",
    "    average_duration = ('duration_minutes' , 'mean')\n",
    ")\n",
    "result.head()"
   ]
  },
  {
   "cell_type": "code",
   "execution_count": 54,
   "metadata": {},
   "outputs": [],
   "source": [
    "# coba stasion\n",
    "conn = make_connection()\n",
    "query = f\"\"\"SELECT * FROM trips WHERE start_station_name LIKE 'Lavaca & 6th'\"\"\"\n",
    "selected_data = pd.read_sql_query(query, conn)"
   ]
  },
  {
   "cell_type": "code",
   "execution_count": 59,
   "metadata": {},
   "outputs": [
    {
     "data": {
      "text/html": [
       "<div>\n",
       "<style scoped>\n",
       "    .dataframe tbody tr th:only-of-type {\n",
       "        vertical-align: middle;\n",
       "    }\n",
       "\n",
       "    .dataframe tbody tr th {\n",
       "        vertical-align: top;\n",
       "    }\n",
       "\n",
       "    .dataframe thead th {\n",
       "        text-align: right;\n",
       "    }\n",
       "</style>\n",
       "<table border=\"1\" class=\"dataframe\">\n",
       "  <thead>\n",
       "    <tr style=\"text-align: right;\">\n",
       "      <th></th>\n",
       "      <th>bike_used_in_specific_station</th>\n",
       "      <th>average_duration</th>\n",
       "    </tr>\n",
       "    <tr>\n",
       "      <th>bikeid</th>\n",
       "      <th></th>\n",
       "      <th></th>\n",
       "    </tr>\n",
       "  </thead>\n",
       "  <tbody>\n",
       "    <tr>\n",
       "      <th>009G</th>\n",
       "      <td>1</td>\n",
       "      <td>19.000000</td>\n",
       "    </tr>\n",
       "    <tr>\n",
       "      <th>034G</th>\n",
       "      <td>1</td>\n",
       "      <td>22.000000</td>\n",
       "    </tr>\n",
       "    <tr>\n",
       "      <th>035G</th>\n",
       "      <td>2</td>\n",
       "      <td>524.000000</td>\n",
       "    </tr>\n",
       "    <tr>\n",
       "      <th>040G</th>\n",
       "      <td>1</td>\n",
       "      <td>29.000000</td>\n",
       "    </tr>\n",
       "    <tr>\n",
       "      <th>041G</th>\n",
       "      <td>2</td>\n",
       "      <td>15.500000</td>\n",
       "    </tr>\n",
       "    <tr>\n",
       "      <th>...</th>\n",
       "      <td>...</td>\n",
       "      <td>...</td>\n",
       "    </tr>\n",
       "    <tr>\n",
       "      <th>993</th>\n",
       "      <td>14</td>\n",
       "      <td>21.000000</td>\n",
       "    </tr>\n",
       "    <tr>\n",
       "      <th>995</th>\n",
       "      <td>18</td>\n",
       "      <td>20.277778</td>\n",
       "    </tr>\n",
       "    <tr>\n",
       "      <th>996</th>\n",
       "      <td>27</td>\n",
       "      <td>18.074074</td>\n",
       "    </tr>\n",
       "    <tr>\n",
       "      <th>998</th>\n",
       "      <td>8</td>\n",
       "      <td>22.500000</td>\n",
       "    </tr>\n",
       "    <tr>\n",
       "      <th>999</th>\n",
       "      <td>10</td>\n",
       "      <td>18.400000</td>\n",
       "    </tr>\n",
       "  </tbody>\n",
       "</table>\n",
       "<p>580 rows × 2 columns</p>\n",
       "</div>"
      ],
      "text/plain": [
       "        bike_used_in_specific_station  average_duration\n",
       "bikeid                                                 \n",
       "009G                                1         19.000000\n",
       "034G                                1         22.000000\n",
       "035G                                2        524.000000\n",
       "040G                                1         29.000000\n",
       "041G                                2         15.500000\n",
       "...                               ...               ...\n",
       "993                                14         21.000000\n",
       "995                                18         20.277778\n",
       "996                                27         18.074074\n",
       "998                                 8         22.500000\n",
       "999                                10         18.400000\n",
       "\n",
       "[580 rows x 2 columns]"
      ]
     },
     "execution_count": 59,
     "metadata": {},
     "output_type": "execute_result"
    }
   ],
   "source": [
    "result = selected_data.groupby('bikeid').agg(\n",
    "    bike_used_in_specific_station = ('bikeid' , 'count'), \n",
    "    average_duration = ('duration_minutes' , 'mean')\n",
    ")\n",
    "result"
   ]
  },
  {
   "cell_type": "code",
   "execution_count": 128,
   "metadata": {},
   "outputs": [],
   "source": [
    "data = {\"start_station\" : \"Lavaca & 6th\"}\n",
    "\n",
    "url = \"http://127.0.0.1:5000/trips/summary_by_station\""
   ]
  },
  {
   "cell_type": "code",
   "execution_count": 129,
   "metadata": {},
   "outputs": [
    {
     "data": {
      "text/plain": [
       "<Response [200]>"
      ]
     },
     "execution_count": 129,
     "metadata": {},
     "output_type": "execute_result"
    }
   ],
   "source": [
    "res = requests.post(url, json=data)\n",
    "res"
   ]
  },
  {
   "cell_type": "code",
   "execution_count": 130,
   "metadata": {},
   "outputs": [
    {
     "data": {
      "text/plain": [
       "'{\"bike_count_start_from_the_station\":{\"009G\":1,\"034G\":1,\"035G\":2,\"040G\":1,\"041G\":2,\"046G\":1,\"050G\":1,\"062G\":3,\"066G\":1,\"072G\":1,\"080G\":2,\"086G\":1,\"095G\":1,\"100\":10,\"1000\":15,\"101\":19,\"102\":14,\"104\":19,\"105\":13,\"105G\":1,\"106\":15,\"106G\":2,\"107\":12,\"109\":2,\"110\":7,\"113\":6,\"114\":10,\"115\":6,\"116\":16,\"117\":11,\"122\":21,\"1224\":4,\"123\":5,\"124\":24,\"126G\":1,\"127\":8,\"12740\":3,\"1277\":5,\"12802\":1,\"12811\":3,\"132\":19,\"133\":8,\"133G\":1,\"134\":20,\"135\":23,\"136G\":3,\"1378\":5,\"1386\":5,\"138G\":1,\"14\":7,\"140\":17,\"141\":11,\"14143\":1,\"14151\":1,\"142\":17,\"1423\":6,\"1424\":2,\"14251\":1,\"14264\":2,\"1434\":3,\"1439\":4,\"1441\":6,\"1463\":5,\"1471\":5,\"1475\":6,\"1484\":7,\"1486\":7,\"1487\":4,\"148G\":2,\"1492\":5,\"15\":8,\"150\":18,\"15026E\":1,\"15027E\":5,\"15029E\":1,\"15030E\":2,\"15031E\":2,\"15040E\":1,\"15056E\":2,\"15059E\":1,\"15063E\":1,\"15074E\":1,\"1511\":4,\"1517\":1,\"152\":15,\"1527\":2,\"153\":10,\"1531\":7,\"1543\":7,\"1545\":1,\"1551\":2,\"1554\":4,\"1555\":4,\"1558\":3,\"156\":6,\"1565\":2,\"157\":14,\"1574\":4,\"158\":9,\"1583\":4,\"1585\":3,\"1586\":7,\"1596\":1,\"16\":19,\"160\":10,\"161\":16,\"1612\":4,\"1627\":1,\"1632\":6,\"1639\":2,\"164\":19,\"1641\":7,\"165\":5,\"166\":10,\"1687\":5,\"169\":16,\"1703\":4,\"1704\":2,\"171\":5,\"174\":8,\"1744\":2,\"176\":5,\"177\":23,\"178\":12,\"1782\":3,\"1786\":2,\"1795\":2,\"1797\":2,\"180\":3,\"1803\":2,\"181\":7,\"182\":8,\"183\":23,\"1830\":3,\"1834\":3,\"1835\":6,\"185\":8,\"1850\":4,\"1851\":4,\"1857\":2,\"188\":13,\"1895\":5,\"1899\":6,\"19\":14,\"190\":22,\"1909\":6,\"191\":21,\"193\":11,\"1930\":5,\"1932\":4,\"1949\":8,\"195\":4,\"1958\":3,\"1967\":5,\"197\":17,\"198\":10,\"1984\":2,\"20\":14,\"200\":20,\"201\":10,\"202\":2,\"2021\":4,\"2022\":3,\"202G\":1,\"203\":13,\"2034\":6,\"2048\":9,\"206\":8,\"207\":15,\"2077\":2,\"208\":23,\"209\":14,\"2095\":5,\"2097\":4,\"210\":6,\"2108\":5,\"212\":13,\"2122\":5,\"2124\":3,\"2126\":9,\"213\":15,\"2130\":2,\"2135\":4,\"214\":22,\"2143\":7,\"2147\":7,\"219\":16,\"2195\":2,\"2197\":5,\"22\":16,\"220\":23,\"2204\":9,\"2205\":4,\"221\":3,\"2228\":4,\"223\":15,\"2232\":3,\"224\":10,\"2242\":5,\"2255\":5,\"225G\":2,\"226\":17,\"2262\":1,\"2266\":6,\"2274\":6,\"2277\":2,\"227G\":1,\"228\":25,\"2283\":3,\"2286\":9,\"2288\":7,\"229\":24,\"2299\":2,\"229G\":1,\"23\":4,\"230\":13,\"2304\":3,\"232\":26,\"2326\":2,\"233\":5,\"2344\":4,\"235\":16,\"2351\":2,\"2355\":5,\"236\":16,\"24\":5,\"240\":15,\"241\":20,\"242\":16,\"244G\":1,\"2459\":13,\"247\":25,\"248\":10,\"25\":17,\"252\":16,\"254\":19,\"258G\":1,\"26\":26,\"260\":23,\"261G\":1,\"262\":11,\"263\":24,\"263G\":1,\"265\":18,\"266\":22,\"27\":15,\"270\":6,\"270G\":2,\"272\":14,\"2722\":3,\"273\":11,\"275\":24,\"276\":19,\"277\":9,\"278\":5,\"28\":15,\"280\":5,\"281\":8,\"282\":15,\"2828\":2,\"283\":18,\"284\":18,\"285\":26,\"287\":10,\"287G\":2,\"288\":19,\"2887\":3,\"29\":19,\"298\":11,\"299\":18,\"3\":16,\"30\":11,\"301\":21,\"302\":26,\"3025\":10,\"303\":20,\"305G\":1,\"306\":15,\"309G\":1,\"311\":15,\"3113\":11,\"315\":15,\"320\":14,\"3201\":3,\"321\":16,\"3212\":12,\"326\":16,\"327\":9,\"3281\":7,\"328G\":2,\"329\":16,\"332\":20,\"334\":22,\"340\":7,\"3405\":4,\"341\":13,\"342\":2,\"343\":4,\"344\":15,\"347\":9,\"3471\":5,\"348\":10,\"349\":11,\"349G\":1,\"35\":17,\"352\":13,\"353G\":1,\"354\":10,\"3541\":8,\"354G\":1,\"356\":15,\"36\":13,\"360\":17,\"362\":23,\"367\":20,\"369\":12,\"37\":16,\"370\":12,\"371\":22,\"373\":16,\"376\":3,\"377\":6,\"382\":12,\"384\":11,\"385\":18,\"386\":18,\"387\":18,\"388\":15,\"391\":22,\"393\":7,\"394\":7,\"395\":13,\"396\":18,\"397\":13,\"398\":16,\"399\":21,\"4\":9,\"40\":11,\"400\":18,\"406\":18,\"407\":19,\"409\":15,\"41\":12,\"410\":16,\"411\":19,\"412\":16,\"414\":20,\"416\":6,\"417\":22,\"420\":21,\"421\":20,\"422\":24,\"425\":17,\"428\":11,\"429\":15,\"430\":4,\"432\":19,\"434\":5,\"435\":17,\"4399\":6,\"440\":16,\"442\":12,\"445\":22,\"446\":10,\"447\":18,\"451\":22,\"452\":22,\"453\":11,\"459\":8,\"46\":25,\"460\":17,\"461\":14,\"464\":22,\"465\":23,\"466\":11,\"468\":22,\"470\":9,\"472\":20,\"473\":12,\"478\":11,\"479\":24,\"483\":1,\"484\":15,\"49\":21,\"5\":12,\"503\":13,\"507\":17,\"5089\":2,\"509\":15,\"511\":14,\"513\":16,\"514\":18,\"517\":14,\"518\":11,\"52\":8,\"520\":21,\"522\":12,\"523\":8,\"528\":23,\"529\":23,\"539\":7,\"54\":7,\"540\":27,\"541\":6,\"544\":23,\"545\":11,\"546\":29,\"547\":19,\"548\":15,\"549\":22,\"55\":14,\"550\":7,\"551\":11,\"553\":14,\"554\":7,\"555\":21,\"558\":11,\"559\":20,\"560\":18,\"561\":16,\"563\":14,\"57\":9,\"571\":13,\"572\":12,\"575\":16,\"576\":12,\"577\":11,\"578\":10,\"579\":4,\"58\":15,\"588\":16,\"589\":17,\"593\":10,\"60\":9,\"610\":10,\"62\":24,\"621\":14,\"625\":15,\"627\":4,\"64\":11,\"640\":3,\"646\":13,\"647\":11,\"650\":22,\"655\":11,\"660\":13,\"661\":23,\"663\":11,\"664\":21,\"666\":16,\"668\":17,\"669\":17,\"670\":12,\"68\":12,\"680\":13,\"683\":22,\"685\":22,\"690\":15,\"693\":16,\"696\":18,\"706\":8,\"709\":15,\"712\":14,\"716\":16,\"72\":14,\"728\":17,\"735\":21,\"745\":24,\"746\":19,\"747\":7,\"749\":14,\"75\":21,\"751\":25,\"759\":9,\"765\":11,\"772\":22,\"774\":18,\"775\":13,\"78\":15,\"789\":12,\"79\":14,\"8\":1,\"80\":24,\"800\":11,\"801\":30,\"805\":9,\"815\":19,\"822\":24,\"823\":13,\"827\":13,\"829\":13,\"832\":16,\"839\":11,\"84\":16,\"843\":16,\"849\":22,\"85\":13,\"850\":4,\"852\":17,\"853\":16,\"854\":9,\"855\":16,\"856\":20,\"86\":22,\"860\":18,\"861\":12,\"862\":15,\"863\":23,\"864\":16,\"865\":12,\"866\":16,\"867\":7,\"869\":11,\"870\":16,\"871\":14,\"872\":18,\"873\":19,\"874\":13,\"875\":11,\"877\":17,\"878\":23,\"88\":12,\"881\":21,\"882\":20,\"884\":17,\"885\":17,\"89\":9,\"890\":13,\"893\":19,\"894\":16,\"895\":12,\"896\":16,\"897\":19,\"898\":17,\"902\":12,\"907\":28,\"910\":21,\"911\":13,\"919\":17,\"920\":15,\"922\":6,\"924\":30,\"925\":20,\"928\":13,\"93\":8,\"930\":10,\"933\":3,\"934\":9,\"936\":17,\"937\":20,\"938\":22,\"95\":27,\"951\":12,\"955\":23,\"956\":17,\"957\":15,\"958\":13,\"961\":9,\"962\":19,\"963\":16,\"965\":12,\"966\":22,\"968\":15,\"969\":19,\"97\":20,\"970\":14,\"974\":13,\"975\":23,\"976\":10,\"979\":23,\"980\":4,\"981\":21,\"983\":17,\"984\":11,\"991\":6,\"993\":14,\"995\":18,\"996\":27,\"998\":8,\"999\":10},\"average_duration\":{\"009G\":19.0,\"034G\":22.0,\"035G\":524.0,\"040G\":29.0,\"041G\":15.5,\"046G\":7.0,\"050G\":8.0,\"062G\":12.3333333333,\"066G\":14.0,\"072G\":15.0,\"080G\":11.0,\"086G\":20.0,\"095G\":819.0,\"100\":15.0,\"1000\":12.8666666667,\"101\":20.7894736842,\"102\":30.4285714286,\"104\":27.3684210526,\"105\":21.8461538462,\"105G\":19.0,\"106\":14.8666666667,\"106G\":6.0,\"107\":22.3333333333,\"109\":9.5,\"110\":15.7142857143,\"113\":24.6666666667,\"114\":10.2,\"115\":16.6666666667,\"116\":21.0,\"117\":9.7272727273,\"122\":12.0476190476,\"1224\":259.75,\"123\":132.8,\"124\":15.4583333333,\"126G\":8.0,\"127\":48.625,\"12740\":11.0,\"1277\":42.8,\"12802\":3.0,\"12811\":4.0,\"132\":13.5263157895,\"133\":17.25,\"133G\":6.0,\"134\":27.25,\"135\":89.5652173913,\"136G\":19.6666666667,\"1378\":12.4,\"1386\":9.0,\"138G\":696.0,\"14\":16.8571428571,\"140\":25.7058823529,\"141\":216.9090909091,\"14143\":8.0,\"14151\":1023.0,\"142\":26.1176470588,\"1423\":7.0,\"1424\":5.5,\"14251\":40.0,\"14264\":12.5,\"1434\":114.6666666667,\"1439\":24.25,\"1441\":25.3333333333,\"1463\":22.4,\"1471\":9.2,\"1475\":8.8333333333,\"1484\":19.1428571429,\"1486\":191.1428571429,\"1487\":16.5,\"148G\":14.0,\"1492\":12.4,\"15\":11.375,\"150\":9.0,\"15026E\":19.0,\"15027E\":128.8,\"15029E\":27.0,\"15030E\":12.5,\"15031E\":7.5,\"15040E\":6.0,\"15056E\":15.5,\"15059E\":12.0,\"15063E\":9.0,\"15074E\":10.0,\"1511\":13.25,\"1517\":8.0,\"152\":12.6666666667,\"1527\":12.0,\"153\":12.9,\"1531\":27.1428571429,\"1543\":16.7142857143,\"1545\":21.0,\"1551\":15.5,\"1554\":19.5,\"1555\":8.0,\"1558\":13.6666666667,\"156\":19.6666666667,\"1565\":22.5,\"157\":43.3571428571,\"1574\":8.75,\"158\":33.1111111111,\"1583\":44.5,\"1585\":8.6666666667,\"1586\":14.8571428571,\"1596\":12.0,\"16\":17.5789473684,\"160\":119.1,\"161\":23.25,\"1612\":15.5,\"1627\":16.0,\"1632\":17.3333333333,\"1639\":16.0,\"164\":21.7894736842,\"1641\":11.2857142857,\"165\":6.4,\"166\":19.2,\"1687\":30.4,\"169\":9.0,\"1703\":17.5,\"1704\":19.5,\"171\":26.4,\"174\":17.5,\"1744\":11.0,\"176\":37.2,\"177\":10.2608695652,\"178\":14.6666666667,\"1782\":19.3333333333,\"1786\":18.0,\"1795\":12.0,\"1797\":46.5,\"180\":26.6666666667,\"1803\":16.0,\"181\":20.2857142857,\"182\":7.0,\"183\":32.2173913043,\"1830\":5.3333333333,\"1834\":11.3333333333,\"1835\":35.1666666667,\"185\":6.25,\"1850\":10.0,\"1851\":18.25,\"1857\":15.5,\"188\":22.9230769231,\"1895\":43.8,\"1899\":29.1666666667,\"19\":30.0,\"190\":12.2727272727,\"1909\":33.5,\"191\":53.3333333333,\"193\":10.0909090909,\"1930\":11.4,\"1932\":24.25,\"1949\":5.625,\"195\":1643.5,\"1958\":38.0,\"1967\":24.2,\"197\":195.2941176471,\"198\":16.4,\"1984\":21.0,\"20\":27.3571428571,\"200\":16.85,\"201\":19.7,\"202\":13.0,\"2021\":281.0,\"2022\":21.0,\"202G\":7.0,\"203\":52.1538461538,\"2034\":19.8333333333,\"2048\":12.7777777778,\"206\":24.875,\"207\":10.3333333333,\"2077\":5.5,\"208\":18.652173913,\"209\":31.1428571429,\"2095\":28.2,\"2097\":24.5,\"210\":81.5,\"2108\":18.4,\"212\":22.7692307692,\"2122\":129.4,\"2124\":5.3333333333,\"2126\":108.6666666667,\"213\":13.8,\"2130\":2.5,\"2135\":8.75,\"214\":11.2727272727,\"2143\":5.1428571429,\"2147\":33.5714285714,\"219\":66.875,\"2195\":35.0,\"2197\":8.8,\"22\":58.9375,\"220\":19.4347826087,\"2204\":20.4444444444,\"2205\":100.0,\"221\":303.6666666667,\"2228\":14.0,\"223\":36.6666666667,\"2232\":11.0,\"224\":26.2,\"2242\":25.2,\"2255\":8.6,\"225G\":48.0,\"226\":32.7647058824,\"2262\":13.0,\"2266\":27.5,\"2274\":16.6666666667,\"2277\":6.5,\"227G\":16.0,\"228\":21.92,\"2283\":12.6666666667,\"2286\":85.8888888889,\"2288\":70.2857142857,\"229\":27.5,\"2299\":3.0,\"229G\":17.0,\"23\":65.0,\"230\":16.3076923077,\"2304\":15.6666666667,\"232\":11.0769230769,\"2326\":25.5,\"233\":11.4,\"2344\":30.0,\"235\":16.9375,\"2351\":34.5,\"2355\":33.6,\"236\":13.6875,\"24\":10.6,\"240\":23.7333333333,\"241\":19.15,\"242\":23.5,\"244G\":5.0,\"2459\":13.3076923077,\"247\":17.28,\"248\":32.0,\"25\":11.5882352941,\"252\":59.875,\"254\":27.8421052632,\"258G\":7.0,\"26\":14.8846153846,\"260\":22.347826087,\"261G\":875.0,\"262\":40.4545454545,\"263\":51.4166666667,\"263G\":5.0,\"265\":21.2777777778,\"266\":93.0909090909,\"27\":8.6,\"270\":36.6666666667,\"270G\":11.0,\"272\":18.4285714286,\"2722\":18.6666666667,\"273\":18.3636363636,\"275\":28.625,\"276\":62.1578947368,\"277\":8.8888888889,\"278\":22.4,\"28\":11.2666666667,\"280\":21.0,\"281\":17.625,\"282\":17.0666666667,\"2828\":47.5,\"283\":14.7222222222,\"284\":31.5,\"285\":14.3846153846,\"287\":179.8,\"287G\":10.0,\"288\":32.3684210526,\"2887\":10.3333333333,\"29\":62.8947368421,\"298\":12.9090909091,\"299\":10.9444444444,\"3\":16.0625,\"30\":15.6363636364,\"301\":10.9047619048,\"302\":34.7307692308,\"3025\":98.3,\"303\":27.15,\"305G\":9.0,\"306\":69.4,\"309G\":6.0,\"311\":12.3333333333,\"3113\":51.3636363636,\"315\":22.0,\"320\":29.2857142857,\"3201\":27.3333333333,\"321\":20.875,\"3212\":79.0,\"326\":13.5625,\"327\":63.2222222222,\"3281\":20.5714285714,\"328G\":657.0,\"329\":26.0625,\"332\":16.5,\"334\":23.2727272727,\"340\":187.0,\"3405\":16.25,\"341\":22.7692307692,\"342\":5.5,\"343\":36.25,\"344\":18.2666666667,\"347\":32.1111111111,\"3471\":67.8,\"348\":10.9,\"349\":14.2727272727,\"349G\":10.0,\"35\":113.8235294118,\"352\":21.4615384615,\"353G\":16.0,\"354\":118.2,\"3541\":9.125,\"354G\":4.0,\"356\":18.0,\"36\":13.9230769231,\"360\":15.7647058824,\"362\":8.6956521739,\"367\":24.6,\"369\":14.3333333333,\"37\":70.5,\"370\":78.6666666667,\"371\":14.2727272727,\"373\":38.0625,\"376\":6.6666666667,\"377\":13.6666666667,\"382\":34.1666666667,\"384\":22.6363636364,\"385\":6.5555555556,\"386\":21.0555555556,\"387\":24.0555555556,\"388\":16.4,\"391\":21.2727272727,\"393\":8.0,\"394\":13.2857142857,\"395\":20.9230769231,\"396\":18.7777777778,\"397\":16.4615384615,\"398\":22.125,\"399\":25.619047619,\"4\":15.6666666667,\"40\":20.2727272727,\"400\":20.0,\"406\":36.6111111111,\"407\":78.4210526316,\"409\":22.1333333333,\"41\":22.5833333333,\"410\":11.1875,\"411\":14.7894736842,\"412\":337.6875,\"414\":30.5,\"416\":15.1666666667,\"417\":91.4090909091,\"420\":71.8571428571,\"421\":20.4,\"422\":27.7083333333,\"425\":14.0588235294,\"428\":26.7272727273,\"429\":46.3333333333,\"430\":7.25,\"432\":26.5263157895,\"434\":30.4,\"435\":29.2352941176,\"4399\":18.0,\"440\":77.5625,\"442\":8.5,\"445\":15.5909090909,\"446\":30.4,\"447\":19.9444444444,\"451\":31.3181818182,\"452\":13.8636363636,\"453\":66.5454545455,\"459\":20.625,\"46\":21.44,\"460\":13.7058823529,\"461\":28.0,\"464\":26.7727272727,\"465\":15.0,\"466\":18.8181818182,\"468\":25.4545454545,\"470\":44.3333333333,\"472\":18.15,\"473\":15.8333333333,\"478\":22.0,\"479\":18.0416666667,\"483\":125.0,\"484\":18.3333333333,\"49\":21.2380952381,\"5\":40.75,\"503\":14.1538461538,\"507\":27.9411764706,\"5089\":97.5,\"509\":24.8666666667,\"511\":12.8571428571,\"513\":21.625,\"514\":31.0555555556,\"517\":23.3571428571,\"518\":7.3636363636,\"52\":10.375,\"520\":19.9523809524,\"522\":11.4166666667,\"523\":13.0,\"528\":27.1739130435,\"529\":14.1739130435,\"539\":35.5714285714,\"54\":10.5714285714,\"540\":18.7407407407,\"541\":13.8333333333,\"544\":16.6956521739,\"545\":12.0909090909,\"546\":16.0,\"547\":29.7894736842,\"548\":21.8666666667,\"549\":14.9090909091,\"55\":7.6428571429,\"550\":30.8571428571,\"551\":16.6363636364,\"553\":40.2142857143,\"554\":46.1428571429,\"555\":13.0952380952,\"558\":70.6363636364,\"559\":16.05,\"560\":86.7222222222,\"561\":58.75,\"563\":13.1428571429,\"57\":47.8888888889,\"571\":49.4615384615,\"572\":23.3333333333,\"575\":12.625,\"576\":37.25,\"577\":110.1818181818,\"578\":13.8,\"579\":69.75,\"58\":14.8,\"588\":60.625,\"589\":12.4117647059,\"593\":15.4,\"60\":11.7777777778,\"610\":53.4,\"62\":21.9583333333,\"621\":29.0,\"625\":11.2,\"627\":4.25,\"64\":15.7272727273,\"640\":46.0,\"646\":23.9230769231,\"647\":92.2727272727,\"650\":31.5454545455,\"655\":21.7272727273,\"660\":13.6923076923,\"661\":23.9130434783,\"663\":12.1818181818,\"664\":22.0952380952,\"666\":15.625,\"668\":9.5882352941,\"669\":26.5882352941,\"670\":11.75,\"68\":22.5833333333,\"680\":23.9230769231,\"683\":65.5909090909,\"685\":21.5909090909,\"690\":25.5333333333,\"693\":28.0,\"696\":36.7222222222,\"706\":27.75,\"709\":17.4666666667,\"712\":13.4285714286,\"716\":19.75,\"72\":25.5714285714,\"728\":88.2941176471,\"735\":20.6666666667,\"745\":36.5416666667,\"746\":18.7894736842,\"747\":13.8571428571,\"749\":23.3571428571,\"75\":9.0476190476,\"751\":15.04,\"759\":12.7777777778,\"765\":9.2727272727,\"772\":13.3636363636,\"774\":16.9444444444,\"775\":16.0,\"78\":8.3333333333,\"789\":37.3333333333,\"79\":16.2857142857,\"8\":21.0,\"80\":57.625,\"800\":36.6363636364,\"801\":35.1,\"805\":16.6666666667,\"815\":10.6842105263,\"822\":29.0833333333,\"823\":40.5384615385,\"827\":32.0769230769,\"829\":10.9230769231,\"832\":38.875,\"839\":23.2727272727,\"84\":13.0625,\"843\":24.9375,\"849\":54.5454545455,\"85\":12.8461538462,\"850\":16.75,\"852\":24.7647058824,\"853\":14.75,\"854\":14.1111111111,\"855\":22.9375,\"856\":31.05,\"86\":34.9545454545,\"860\":24.0,\"861\":23.4166666667,\"862\":24.2666666667,\"863\":17.7391304348,\"864\":58.375,\"865\":10.4166666667,\"866\":27.375,\"867\":9.7142857143,\"869\":49.1818181818,\"870\":26.0,\"871\":77.2857142857,\"872\":15.1666666667,\"873\":38.6842105263,\"874\":6.9230769231,\"875\":12.4545454545,\"877\":21.0588235294,\"878\":14.4782608696,\"88\":12.4166666667,\"881\":27.4285714286,\"882\":32.2,\"884\":19.9411764706,\"885\":18.9411764706,\"89\":10.7777777778,\"890\":29.9230769231,\"893\":26.0,\"894\":37.3125,\"895\":29.5,\"896\":11.375,\"897\":13.5789473684,\"898\":46.4705882353,\"902\":16.1666666667,\"907\":16.7857142857,\"910\":22.380952381,\"911\":23.9230769231,\"919\":78.1176470588,\"920\":59.0,\"922\":26.5,\"924\":32.4333333333,\"925\":20.5,\"928\":10.9230769231,\"93\":10.625,\"930\":20.8,\"933\":19.3333333333,\"934\":17.7777777778,\"936\":16.7647058824,\"937\":12.6,\"938\":19.6363636364,\"95\":28.0,\"951\":109.25,\"955\":14.652173913,\"956\":11.8823529412,\"957\":15.4666666667,\"958\":88.3076923077,\"961\":11.6666666667,\"962\":26.6842105263,\"963\":12.8125,\"965\":12.1666666667,\"966\":24.6363636364,\"968\":11.2666666667,\"969\":17.8421052632,\"97\":24.05,\"970\":26.2857142857,\"974\":7.6153846154,\"975\":17.9565217391,\"976\":5.4,\"979\":52.7826086957,\"980\":9.25,\"981\":41.6666666667,\"983\":13.9411764706,\"984\":20.4545454545,\"991\":42.8333333333,\"993\":21.0,\"995\":20.2777777778,\"996\":18.0740740741,\"998\":22.5,\"999\":18.4}}'"
      ]
     },
     "execution_count": 130,
     "metadata": {},
     "output_type": "execute_result"
    }
   ],
   "source": [
    "res.text"
   ]
  },
  {
   "cell_type": "markdown",
   "metadata": {},
   "source": [
    "# Submission\n",
    "\n",
    "After finishing your work of all the rubrics, the next step will be;\n",
    "\n",
    "1. Prepare your `Bikeshare API.ipynb` file that has been edited with your code and wrangling data.\n",
    "2. Prepare your `app.py` file for your Flask App. \n",
    "3. Submit your .ipynb and app.py file in your github repository. The dataset is optional to post since it has big size to post. \n",
    "\n"
   ]
  }
 ],
 "metadata": {
  "kernelspec": {
   "display_name": "theia_da",
   "language": "python",
   "name": "theia_da"
  },
  "language_info": {
   "codemirror_mode": {
    "name": "ipython",
    "version": 3
   },
   "file_extension": ".py",
   "mimetype": "text/x-python",
   "name": "python",
   "nbconvert_exporter": "python",
   "pygments_lexer": "ipython3",
   "version": "3.9.13"
  },
  "toc": {
   "base_numbering": 1,
   "nav_menu": {},
   "number_sections": true,
   "sideBar": true,
   "skip_h1_title": false,
   "title_cell": "Table of Contents",
   "title_sidebar": "Contents",
   "toc_cell": false,
   "toc_position": {},
   "toc_section_display": true,
   "toc_window_display": false
  },
  "toc-autonumbering": true
 },
 "nbformat": 4,
 "nbformat_minor": 5
}
